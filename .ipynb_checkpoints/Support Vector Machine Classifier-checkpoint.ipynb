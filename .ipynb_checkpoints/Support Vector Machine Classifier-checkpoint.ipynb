{
 "cells": [
  {
   "cell_type": "code",
   "execution_count": 287,
   "id": "f4578839",
   "metadata": {},
   "outputs": [],
   "source": [
    "import numpy as np\n",
    "import pandas as pd\n",
    "import math\n",
    "import seaborn as sns\n",
    "import matplotlib.pyplot as plt\n",
    "np.random.seed(20)"
   ]
  },
  {
   "cell_type": "code",
   "execution_count": 288,
   "id": "9a7d5f60",
   "metadata": {},
   "outputs": [
    {
     "data": {
      "text/html": [
       "<div>\n",
       "<style scoped>\n",
       "    .dataframe tbody tr th:only-of-type {\n",
       "        vertical-align: middle;\n",
       "    }\n",
       "\n",
       "    .dataframe tbody tr th {\n",
       "        vertical-align: top;\n",
       "    }\n",
       "\n",
       "    .dataframe thead th {\n",
       "        text-align: right;\n",
       "    }\n",
       "</style>\n",
       "<table border=\"1\" class=\"dataframe\">\n",
       "  <thead>\n",
       "    <tr style=\"text-align: right;\">\n",
       "      <th></th>\n",
       "      <th>Id</th>\n",
       "      <th>SepalLengthCm</th>\n",
       "      <th>SepalWidthCm</th>\n",
       "      <th>PetalLengthCm</th>\n",
       "      <th>PetalWidthCm</th>\n",
       "      <th>Species</th>\n",
       "    </tr>\n",
       "  </thead>\n",
       "  <tbody>\n",
       "    <tr>\n",
       "      <th>0</th>\n",
       "      <td>1</td>\n",
       "      <td>5.1</td>\n",
       "      <td>3.5</td>\n",
       "      <td>1.4</td>\n",
       "      <td>0.2</td>\n",
       "      <td>Iris-setosa</td>\n",
       "    </tr>\n",
       "    <tr>\n",
       "      <th>1</th>\n",
       "      <td>2</td>\n",
       "      <td>4.9</td>\n",
       "      <td>3.0</td>\n",
       "      <td>1.4</td>\n",
       "      <td>0.2</td>\n",
       "      <td>Iris-setosa</td>\n",
       "    </tr>\n",
       "    <tr>\n",
       "      <th>2</th>\n",
       "      <td>3</td>\n",
       "      <td>4.7</td>\n",
       "      <td>3.2</td>\n",
       "      <td>1.3</td>\n",
       "      <td>0.2</td>\n",
       "      <td>Iris-setosa</td>\n",
       "    </tr>\n",
       "    <tr>\n",
       "      <th>3</th>\n",
       "      <td>4</td>\n",
       "      <td>4.6</td>\n",
       "      <td>3.1</td>\n",
       "      <td>1.5</td>\n",
       "      <td>0.2</td>\n",
       "      <td>Iris-setosa</td>\n",
       "    </tr>\n",
       "    <tr>\n",
       "      <th>4</th>\n",
       "      <td>5</td>\n",
       "      <td>5.0</td>\n",
       "      <td>3.6</td>\n",
       "      <td>1.4</td>\n",
       "      <td>0.2</td>\n",
       "      <td>Iris-setosa</td>\n",
       "    </tr>\n",
       "  </tbody>\n",
       "</table>\n",
       "</div>"
      ],
      "text/plain": [
       "   Id  SepalLengthCm  SepalWidthCm  PetalLengthCm  PetalWidthCm      Species\n",
       "0   1            5.1           3.5            1.4           0.2  Iris-setosa\n",
       "1   2            4.9           3.0            1.4           0.2  Iris-setosa\n",
       "2   3            4.7           3.2            1.3           0.2  Iris-setosa\n",
       "3   4            4.6           3.1            1.5           0.2  Iris-setosa\n",
       "4   5            5.0           3.6            1.4           0.2  Iris-setosa"
      ]
     },
     "execution_count": 288,
     "metadata": {},
     "output_type": "execute_result"
    }
   ],
   "source": [
    "df = pd.read_csv('iris.csv')\n",
    "df.head()"
   ]
  },
  {
   "cell_type": "code",
   "execution_count": 289,
   "id": "c60d53fd",
   "metadata": {},
   "outputs": [
    {
     "data": {
      "text/html": [
       "<div>\n",
       "<style scoped>\n",
       "    .dataframe tbody tr th:only-of-type {\n",
       "        vertical-align: middle;\n",
       "    }\n",
       "\n",
       "    .dataframe tbody tr th {\n",
       "        vertical-align: top;\n",
       "    }\n",
       "\n",
       "    .dataframe thead th {\n",
       "        text-align: right;\n",
       "    }\n",
       "</style>\n",
       "<table border=\"1\" class=\"dataframe\">\n",
       "  <thead>\n",
       "    <tr style=\"text-align: right;\">\n",
       "      <th></th>\n",
       "      <th>SepalLengthCm</th>\n",
       "      <th>SepalWidthCm</th>\n",
       "      <th>PetalLengthCm</th>\n",
       "      <th>PetalWidthCm</th>\n",
       "      <th>Species</th>\n",
       "    </tr>\n",
       "  </thead>\n",
       "  <tbody>\n",
       "    <tr>\n",
       "      <th>0</th>\n",
       "      <td>5.1</td>\n",
       "      <td>3.5</td>\n",
       "      <td>1.4</td>\n",
       "      <td>0.2</td>\n",
       "      <td>Iris-setosa</td>\n",
       "    </tr>\n",
       "    <tr>\n",
       "      <th>1</th>\n",
       "      <td>4.9</td>\n",
       "      <td>3.0</td>\n",
       "      <td>1.4</td>\n",
       "      <td>0.2</td>\n",
       "      <td>Iris-setosa</td>\n",
       "    </tr>\n",
       "    <tr>\n",
       "      <th>2</th>\n",
       "      <td>4.7</td>\n",
       "      <td>3.2</td>\n",
       "      <td>1.3</td>\n",
       "      <td>0.2</td>\n",
       "      <td>Iris-setosa</td>\n",
       "    </tr>\n",
       "    <tr>\n",
       "      <th>3</th>\n",
       "      <td>4.6</td>\n",
       "      <td>3.1</td>\n",
       "      <td>1.5</td>\n",
       "      <td>0.2</td>\n",
       "      <td>Iris-setosa</td>\n",
       "    </tr>\n",
       "    <tr>\n",
       "      <th>4</th>\n",
       "      <td>5.0</td>\n",
       "      <td>3.6</td>\n",
       "      <td>1.4</td>\n",
       "      <td>0.2</td>\n",
       "      <td>Iris-setosa</td>\n",
       "    </tr>\n",
       "  </tbody>\n",
       "</table>\n",
       "</div>"
      ],
      "text/plain": [
       "   SepalLengthCm  SepalWidthCm  PetalLengthCm  PetalWidthCm      Species\n",
       "0            5.1           3.5            1.4           0.2  Iris-setosa\n",
       "1            4.9           3.0            1.4           0.2  Iris-setosa\n",
       "2            4.7           3.2            1.3           0.2  Iris-setosa\n",
       "3            4.6           3.1            1.5           0.2  Iris-setosa\n",
       "4            5.0           3.6            1.4           0.2  Iris-setosa"
      ]
     },
     "execution_count": 289,
     "metadata": {},
     "output_type": "execute_result"
    }
   ],
   "source": [
    "df = df.drop(['Id'], axis=1)\n",
    "df.head()"
   ]
  },
  {
   "cell_type": "code",
   "execution_count": 290,
   "id": "aefeb577",
   "metadata": {},
   "outputs": [
    {
     "data": {
      "text/plain": [
       "array(['Iris-setosa', 'Iris-versicolor', 'Iris-virginica'], dtype=object)"
      ]
     },
     "execution_count": 290,
     "metadata": {},
     "output_type": "execute_result"
    }
   ],
   "source": [
    "pd.unique(df[['Species']].values.ravel())"
   ]
  },
  {
   "cell_type": "code",
   "execution_count": 291,
   "id": "40e800ba",
   "metadata": {},
   "outputs": [
    {
     "data": {
      "text/html": [
       "<div>\n",
       "<style scoped>\n",
       "    .dataframe tbody tr th:only-of-type {\n",
       "        vertical-align: middle;\n",
       "    }\n",
       "\n",
       "    .dataframe tbody tr th {\n",
       "        vertical-align: top;\n",
       "    }\n",
       "\n",
       "    .dataframe thead th {\n",
       "        text-align: right;\n",
       "    }\n",
       "</style>\n",
       "<table border=\"1\" class=\"dataframe\">\n",
       "  <thead>\n",
       "    <tr style=\"text-align: right;\">\n",
       "      <th></th>\n",
       "      <th>SepalLengthCm</th>\n",
       "      <th>SepalWidthCm</th>\n",
       "      <th>PetalLengthCm</th>\n",
       "      <th>PetalWidthCm</th>\n",
       "      <th>Species</th>\n",
       "    </tr>\n",
       "  </thead>\n",
       "  <tbody>\n",
       "    <tr>\n",
       "      <th>0</th>\n",
       "      <td>5.1</td>\n",
       "      <td>3.5</td>\n",
       "      <td>1.4</td>\n",
       "      <td>0.2</td>\n",
       "      <td>0</td>\n",
       "    </tr>\n",
       "    <tr>\n",
       "      <th>1</th>\n",
       "      <td>4.9</td>\n",
       "      <td>3.0</td>\n",
       "      <td>1.4</td>\n",
       "      <td>0.2</td>\n",
       "      <td>0</td>\n",
       "    </tr>\n",
       "    <tr>\n",
       "      <th>2</th>\n",
       "      <td>4.7</td>\n",
       "      <td>3.2</td>\n",
       "      <td>1.3</td>\n",
       "      <td>0.2</td>\n",
       "      <td>0</td>\n",
       "    </tr>\n",
       "    <tr>\n",
       "      <th>3</th>\n",
       "      <td>4.6</td>\n",
       "      <td>3.1</td>\n",
       "      <td>1.5</td>\n",
       "      <td>0.2</td>\n",
       "      <td>0</td>\n",
       "    </tr>\n",
       "    <tr>\n",
       "      <th>4</th>\n",
       "      <td>5.0</td>\n",
       "      <td>3.6</td>\n",
       "      <td>1.4</td>\n",
       "      <td>0.2</td>\n",
       "      <td>0</td>\n",
       "    </tr>\n",
       "  </tbody>\n",
       "</table>\n",
       "</div>"
      ],
      "text/plain": [
       "   SepalLengthCm  SepalWidthCm  PetalLengthCm  PetalWidthCm  Species\n",
       "0            5.1           3.5            1.4           0.2        0\n",
       "1            4.9           3.0            1.4           0.2        0\n",
       "2            4.7           3.2            1.3           0.2        0\n",
       "3            4.6           3.1            1.5           0.2        0\n",
       "4            5.0           3.6            1.4           0.2        0"
      ]
     },
     "execution_count": 291,
     "metadata": {},
     "output_type": "execute_result"
    }
   ],
   "source": [
    "target_encoded_values = {\"Species\": {\"Iris-setosa\": 0, \"Iris-versicolor\": 1, \"Iris-virginica\" : 2}}\n",
    "df = df.replace(target_encoded_values)\n",
    "df.head()"
   ]
  },
  {
   "cell_type": "code",
   "execution_count": 292,
   "id": "ad4eefcd",
   "metadata": {
    "scrolled": true
   },
   "outputs": [
    {
     "data": {
      "text/html": [
       "<div>\n",
       "<style scoped>\n",
       "    .dataframe tbody tr th:only-of-type {\n",
       "        vertical-align: middle;\n",
       "    }\n",
       "\n",
       "    .dataframe tbody tr th {\n",
       "        vertical-align: top;\n",
       "    }\n",
       "\n",
       "    .dataframe thead th {\n",
       "        text-align: right;\n",
       "    }\n",
       "</style>\n",
       "<table border=\"1\" class=\"dataframe\">\n",
       "  <thead>\n",
       "    <tr style=\"text-align: right;\">\n",
       "      <th></th>\n",
       "      <th>SepalLengthCm</th>\n",
       "      <th>SepalWidthCm</th>\n",
       "      <th>PetalLengthCm</th>\n",
       "      <th>PetalWidthCm</th>\n",
       "    </tr>\n",
       "  </thead>\n",
       "  <tbody>\n",
       "    <tr>\n",
       "      <th>0</th>\n",
       "      <td>5.1</td>\n",
       "      <td>3.5</td>\n",
       "      <td>1.4</td>\n",
       "      <td>0.2</td>\n",
       "    </tr>\n",
       "    <tr>\n",
       "      <th>1</th>\n",
       "      <td>4.9</td>\n",
       "      <td>3.0</td>\n",
       "      <td>1.4</td>\n",
       "      <td>0.2</td>\n",
       "    </tr>\n",
       "    <tr>\n",
       "      <th>2</th>\n",
       "      <td>4.7</td>\n",
       "      <td>3.2</td>\n",
       "      <td>1.3</td>\n",
       "      <td>0.2</td>\n",
       "    </tr>\n",
       "    <tr>\n",
       "      <th>3</th>\n",
       "      <td>4.6</td>\n",
       "      <td>3.1</td>\n",
       "      <td>1.5</td>\n",
       "      <td>0.2</td>\n",
       "    </tr>\n",
       "    <tr>\n",
       "      <th>4</th>\n",
       "      <td>5.0</td>\n",
       "      <td>3.6</td>\n",
       "      <td>1.4</td>\n",
       "      <td>0.2</td>\n",
       "    </tr>\n",
       "  </tbody>\n",
       "</table>\n",
       "</div>"
      ],
      "text/plain": [
       "   SepalLengthCm  SepalWidthCm  PetalLengthCm  PetalWidthCm\n",
       "0            5.1           3.5            1.4           0.2\n",
       "1            4.9           3.0            1.4           0.2\n",
       "2            4.7           3.2            1.3           0.2\n",
       "3            4.6           3.1            1.5           0.2\n",
       "4            5.0           3.6            1.4           0.2"
      ]
     },
     "execution_count": 292,
     "metadata": {},
     "output_type": "execute_result"
    }
   ],
   "source": [
    "features = df.iloc[:, 0:4]\n",
    "features.head()"
   ]
  },
  {
   "cell_type": "code",
   "execution_count": 293,
   "id": "d2c049c3",
   "metadata": {},
   "outputs": [
    {
     "data": {
      "text/plain": [
       "(150, 4)"
      ]
     },
     "execution_count": 293,
     "metadata": {},
     "output_type": "execute_result"
    }
   ],
   "source": [
    "features = np.array(features)\n",
    "features.shape"
   ]
  },
  {
   "cell_type": "markdown",
   "id": "88768dfe",
   "metadata": {},
   "source": [
    "Here are 4 feature variables. So if we were to visualize a 3D space and sadly due to my limiations of being a 3D Creature; First We perform a method of PCA for reducing the Dimension of our dataset. We try to take it to 1D but if there is alot of information loss in it; we'll be keeping an extra second dimension."
   ]
  },
  {
   "cell_type": "markdown",
   "id": "77bd4f87",
   "metadata": {},
   "source": [
    "# Performing the PCA using Singular Value Decomposition"
   ]
  },
  {
   "cell_type": "markdown",
   "id": "20056c64",
   "metadata": {},
   "source": [
    "We can see that our feature matrix is a rectangular matrix, now we find out the **A'A**\n",
    "of our features matrix and call it M.\n",
    "We also find **AA'** of the feature matrix and call it N."
   ]
  },
  {
   "cell_type": "code",
   "execution_count": 294,
   "id": "b75de84b",
   "metadata": {},
   "outputs": [
    {
     "name": "stdout",
     "output_type": "stream",
     "text": [
      "(4, 4) (150, 150)\n"
     ]
    }
   ],
   "source": [
    "M = np.matmul(features.T, features)\n",
    "N = np.matmul(features, features.T)\n",
    "print(M.shape, N.shape)"
   ]
  },
  {
   "cell_type": "code",
   "execution_count": 295,
   "id": "f2db73e7",
   "metadata": {},
   "outputs": [],
   "source": [
    "lam_M, V = np.linalg.eig(M)\n",
    "lam_N, U = np.linalg.eig(N)"
   ]
  },
  {
   "cell_type": "code",
   "execution_count": 296,
   "id": "bb85eea6",
   "metadata": {},
   "outputs": [
    {
     "name": "stdout",
     "output_type": "stream",
     "text": [
      "[9.20653060e+03 3.14103073e+02 1.20360193e+01 3.53031167e+00]\n"
     ]
    },
    {
     "data": {
      "text/plain": [
       "(4,)"
      ]
     },
     "execution_count": 296,
     "metadata": {},
     "output_type": "execute_result"
    }
   ],
   "source": [
    "print(lam_M)\n",
    "lam_M.shape"
   ]
  },
  {
   "cell_type": "code",
   "execution_count": 297,
   "id": "d53defee",
   "metadata": {},
   "outputs": [
    {
     "name": "stdout",
     "output_type": "stream",
     "text": [
      "[[ 0.75116805  0.37978837  0.51315094  0.16787934]\n",
      " [ 0.28583096  0.54488976 -0.70889874 -0.34475845]\n",
      " [ 0.49942378 -0.67502499 -0.05471983 -0.54029889]\n",
      " [ 0.32345496 -0.32124324 -0.48077482  0.74902286]]\n"
     ]
    }
   ],
   "source": [
    "V = V.T\n",
    "print(V)"
   ]
  },
  {
   "cell_type": "code",
   "execution_count": 298,
   "id": "e5f1d22e",
   "metadata": {},
   "outputs": [
    {
     "name": "stdout",
     "output_type": "stream",
     "text": [
      "The significance of PCA0 is: 96.54%\n",
      "The significance of PCA1 is: 3.29%\n",
      "The significance of PCA2 is: 0.13%\n",
      "The significance of PCA3 is: 0.04%\n"
     ]
    }
   ],
   "source": [
    "indices = []\n",
    "for i in range(len(lam_M)):\n",
    "    sig_n = lam_M[i] / np.sum(lam_M) * 100\n",
    "    print(f'The significance of PCA{i} is: {round(sig_n, 2)}%')\n",
    "    if sig_n > 3:\n",
    "        indices.append(i)\n",
    "PCAs = V[indices]"
   ]
  },
  {
   "cell_type": "code",
   "execution_count": 299,
   "id": "7092fe9e",
   "metadata": {},
   "outputs": [
    {
     "name": "stdout",
     "output_type": "stream",
     "text": [
      "[[ 0.75116805  0.37978837  0.51315094  0.16787934]\n",
      " [ 0.28583096  0.54488976 -0.70889874 -0.34475845]]\n"
     ]
    }
   ],
   "source": [
    "print(PCAs)"
   ]
  },
  {
   "cell_type": "code",
   "execution_count": 300,
   "id": "d7580784",
   "metadata": {},
   "outputs": [
    {
     "name": "stdout",
     "output_type": "stream",
     "text": [
      "(2, 4) (150, 4)\n"
     ]
    }
   ],
   "source": [
    "print(PCAs.shape, features.shape)"
   ]
  },
  {
   "cell_type": "code",
   "execution_count": 301,
   "id": "b62b0de2",
   "metadata": {},
   "outputs": [
    {
     "name": "stdout",
     "output_type": "stream",
     "text": [
      "(150, 2)\n"
     ]
    }
   ],
   "source": [
    "PCA_features = np.matmul(PCAs, features.T)\n",
    "PCA_features = PCA_features.T\n",
    "print(PCA_features.shape)"
   ]
  },
  {
   "cell_type": "code",
   "execution_count": 302,
   "id": "5ba89242",
   "metadata": {},
   "outputs": [
    {
     "data": {
      "text/html": [
       "<div>\n",
       "<style scoped>\n",
       "    .dataframe tbody tr th:only-of-type {\n",
       "        vertical-align: middle;\n",
       "    }\n",
       "\n",
       "    .dataframe tbody tr th {\n",
       "        vertical-align: top;\n",
       "    }\n",
       "\n",
       "    .dataframe thead th {\n",
       "        text-align: right;\n",
       "    }\n",
       "</style>\n",
       "<table border=\"1\" class=\"dataframe\">\n",
       "  <thead>\n",
       "    <tr style=\"text-align: right;\">\n",
       "      <th></th>\n",
       "      <th>PC_1</th>\n",
       "      <th>PC_2</th>\n",
       "    </tr>\n",
       "  </thead>\n",
       "  <tbody>\n",
       "    <tr>\n",
       "      <th>0</th>\n",
       "      <td>5.912204</td>\n",
       "      <td>2.303442</td>\n",
       "    </tr>\n",
       "    <tr>\n",
       "      <th>1</th>\n",
       "      <td>5.572076</td>\n",
       "      <td>1.973831</td>\n",
       "    </tr>\n",
       "    <tr>\n",
       "      <th>2</th>\n",
       "      <td>5.446485</td>\n",
       "      <td>2.096533</td>\n",
       "    </tr>\n",
       "    <tr>\n",
       "      <th>3</th>\n",
       "      <td>5.436019</td>\n",
       "      <td>1.871681</td>\n",
       "    </tr>\n",
       "    <tr>\n",
       "      <th>4</th>\n",
       "      <td>5.875066</td>\n",
       "      <td>2.329348</td>\n",
       "    </tr>\n",
       "  </tbody>\n",
       "</table>\n",
       "</div>"
      ],
      "text/plain": [
       "       PC_1      PC_2\n",
       "0  5.912204  2.303442\n",
       "1  5.572076  1.973831\n",
       "2  5.446485  2.096533\n",
       "3  5.436019  1.871681\n",
       "4  5.875066  2.329348"
      ]
     },
     "execution_count": 302,
     "metadata": {},
     "output_type": "execute_result"
    }
   ],
   "source": [
    "PCA_features = pd.DataFrame(PCA_features, columns = ['PC_1', 'PC_2'])\n",
    "PCA_features.head()"
   ]
  },
  {
   "cell_type": "code",
   "execution_count": 303,
   "id": "ac2b7743",
   "metadata": {},
   "outputs": [
    {
     "data": {
      "text/html": [
       "<div>\n",
       "<style scoped>\n",
       "    .dataframe tbody tr th:only-of-type {\n",
       "        vertical-align: middle;\n",
       "    }\n",
       "\n",
       "    .dataframe tbody tr th {\n",
       "        vertical-align: top;\n",
       "    }\n",
       "\n",
       "    .dataframe thead th {\n",
       "        text-align: right;\n",
       "    }\n",
       "</style>\n",
       "<table border=\"1\" class=\"dataframe\">\n",
       "  <thead>\n",
       "    <tr style=\"text-align: right;\">\n",
       "      <th></th>\n",
       "      <th>PC_1</th>\n",
       "      <th>PC_2</th>\n",
       "      <th>Species</th>\n",
       "    </tr>\n",
       "  </thead>\n",
       "  <tbody>\n",
       "    <tr>\n",
       "      <th>0</th>\n",
       "      <td>5.912204</td>\n",
       "      <td>2.303442</td>\n",
       "      <td>0</td>\n",
       "    </tr>\n",
       "    <tr>\n",
       "      <th>1</th>\n",
       "      <td>5.572076</td>\n",
       "      <td>1.973831</td>\n",
       "      <td>0</td>\n",
       "    </tr>\n",
       "    <tr>\n",
       "      <th>2</th>\n",
       "      <td>5.446485</td>\n",
       "      <td>2.096533</td>\n",
       "      <td>0</td>\n",
       "    </tr>\n",
       "    <tr>\n",
       "      <th>3</th>\n",
       "      <td>5.436019</td>\n",
       "      <td>1.871681</td>\n",
       "      <td>0</td>\n",
       "    </tr>\n",
       "    <tr>\n",
       "      <th>4</th>\n",
       "      <td>5.875066</td>\n",
       "      <td>2.329348</td>\n",
       "      <td>0</td>\n",
       "    </tr>\n",
       "  </tbody>\n",
       "</table>\n",
       "</div>"
      ],
      "text/plain": [
       "       PC_1      PC_2  Species\n",
       "0  5.912204  2.303442        0\n",
       "1  5.572076  1.973831        0\n",
       "2  5.446485  2.096533        0\n",
       "3  5.436019  1.871681        0\n",
       "4  5.875066  2.329348        0"
      ]
     },
     "execution_count": 303,
     "metadata": {},
     "output_type": "execute_result"
    }
   ],
   "source": [
    "PCA_features = pd.concat([PCA_features, df['Species']], axis=1)\n",
    "PCA_features.head()"
   ]
  },
  {
   "cell_type": "code",
   "execution_count": 304,
   "id": "69e9e0ba",
   "metadata": {},
   "outputs": [
    {
     "data": {
      "text/plain": [
       "<AxesSubplot:xlabel='PC_1', ylabel='PC_2'>"
      ]
     },
     "execution_count": 304,
     "metadata": {},
     "output_type": "execute_result"
    },
    {
     "data": {
      "image/png": "[encoded data removed]",
      "text/plain": [
       "<Figure size 432x288 with 1 Axes>"
      ]
     },
     "metadata": {
      "needs_background": "light"
     },
     "output_type": "display_data"
    }
   ],
   "source": [
    "sns.scatterplot(data=PCA_features, x = \"PC_1\", y = \"PC_2\", palette='icefire', hue=\"Species\")"
   ]
  },
  {
   "cell_type": "markdown",
   "id": "702b17bb",
   "metadata": {},
   "source": [
    "## \n",
    "### Now that we have a 2D dataset, we can proceed futher to classifiying the datapoints using a support vector classifier.\n",
    "#### But first, let's try it on just two of the classes. We take in Linearly Separable Class. So let's Emit class \"1\" from the dataset and keep classes 0 and 2 such that they are linearly separable."
   ]
  },
  {
   "cell_type": "code",
   "execution_count": 332,
   "id": "fd7ae563",
   "metadata": {},
   "outputs": [
    {
     "data": {
      "text/plain": [
       "<AxesSubplot:xlabel='PC_1', ylabel='PC_2'>"
      ]
     },
     "execution_count": 332,
     "metadata": {},
     "output_type": "execute_result"
    },
    {
     "data": {
      "image/png": "[encoded data removed]",
      "text/plain": [
       "<Figure size 432x288 with 1 Axes>"
      ]
     },
     "metadata": {
      "needs_background": "light"
     },
     "output_type": "display_data"
    }
   ],
   "source": [
    "ds = pd.DataFrame(columns=[\"PC_1\", \"PC_2\", \"Species\"])\n",
    "i = 0\n",
    "for value1, value2, species in zip(PCA_features.iloc[:,0], PCA_features.iloc[:,1], PCA_features.iloc[:,2]):\n",
    "    if species == 2:\n",
    "        continue\n",
    "    else:\n",
    "        ds.loc[i] = [value1, value2,species]\n",
    "        i += 1\n",
    "\n",
    "sns.scatterplot(data=ds, x = \"PC_1\", y = \"PC_2\", palette='icefire', hue=\"Species\")"
   ]
  },
  {
   "cell_type": "markdown",
   "id": "9a3d61f6",
   "metadata": {},
   "source": [
    "Now we shuffle the dataset before we separate them for training and testing phase."
   ]
  },
  {
   "cell_type": "markdown",
   "id": "efbcab43",
   "metadata": {},
   "source": [
    "# SVM for Linearly Separable Dataset"
   ]
  },
  {
   "cell_type": "code",
   "execution_count": 333,
   "id": "82f79568",
   "metadata": {},
   "outputs": [
    {
     "data": {
      "text/html": [
       "<div>\n",
       "<style scoped>\n",
       "    .dataframe tbody tr th:only-of-type {\n",
       "        vertical-align: middle;\n",
       "    }\n",
       "\n",
       "    .dataframe tbody tr th {\n",
       "        vertical-align: top;\n",
       "    }\n",
       "\n",
       "    .dataframe thead th {\n",
       "        text-align: right;\n",
       "    }\n",
       "</style>\n",
       "<table border=\"1\" class=\"dataframe\">\n",
       "  <thead>\n",
       "    <tr style=\"text-align: right;\">\n",
       "      <th></th>\n",
       "      <th>PC_1</th>\n",
       "      <th>PC_2</th>\n",
       "      <th>Species</th>\n",
       "    </tr>\n",
       "  </thead>\n",
       "  <tbody>\n",
       "    <tr>\n",
       "      <th>14</th>\n",
       "      <td>6.525285</td>\n",
       "      <td>2.917748</td>\n",
       "      <td>0.0</td>\n",
       "    </tr>\n",
       "    <tr>\n",
       "      <th>74</th>\n",
       "      <td>8.333654</td>\n",
       "      <td>-0.086952</td>\n",
       "      <td>1.0</td>\n",
       "    </tr>\n",
       "    <tr>\n",
       "      <th>15</th>\n",
       "      <td>6.789605</td>\n",
       "      <td>2.825500</td>\n",
       "      <td>0.0</td>\n",
       "    </tr>\n",
       "    <tr>\n",
       "      <th>4</th>\n",
       "      <td>5.875066</td>\n",
       "      <td>2.329348</td>\n",
       "      <td>0.0</td>\n",
       "    </tr>\n",
       "    <tr>\n",
       "      <th>32</th>\n",
       "      <td>6.249721</td>\n",
       "      <td>2.622545</td>\n",
       "      <td>0.0</td>\n",
       "    </tr>\n",
       "  </tbody>\n",
       "</table>\n",
       "</div>"
      ],
      "text/plain": [
       "        PC_1      PC_2  Species\n",
       "14  6.525285  2.917748      0.0\n",
       "74  8.333654 -0.086952      1.0\n",
       "15  6.789605  2.825500      0.0\n",
       "4   5.875066  2.329348      0.0\n",
       "32  6.249721  2.622545      0.0"
      ]
     },
     "execution_count": 333,
     "metadata": {},
     "output_type": "execute_result"
    }
   ],
   "source": [
    "ds = ds.sample(frac=1, random_state=34)\n",
    "ds.shape\n",
    "ds.head()"
   ]
  },
  {
   "cell_type": "markdown",
   "id": "01ec8d73",
   "metadata": {},
   "source": [
    "We split 80% of the dataset for Training and 20% of the dataset for testing."
   ]
  },
  {
   "cell_type": "code",
   "execution_count": 334,
   "id": "32411194",
   "metadata": {},
   "outputs": [],
   "source": [
    "X_train = ds.iloc[:int(0.8*(len(ds))), :2]\n",
    "y_train = ds.iloc[:int(0.8*(len(ds))), -1]\n",
    "X_test  = ds.iloc[int(0.8*(len(ds))):, :2]\n",
    "y_test  = ds.iloc[int(0.8*(len(ds))):, -1]"
   ]
  },
  {
   "cell_type": "code",
   "execution_count": 335,
   "id": "b797aca3",
   "metadata": {},
   "outputs": [],
   "source": [
    "X_train = np.array(X_train).astype('float64')\n",
    "y_train = np.array(y_train).astype('float64')"
   ]
  },
  {
   "cell_type": "code",
   "execution_count": 346,
   "id": "771e2067",
   "metadata": {},
   "outputs": [],
   "source": [
    "def cost0(x):\n",
    "    return max(0, 1+x)\n",
    "\n",
    "def cost1(x):\n",
    "    return max(0, 1-x)\n",
    "\n",
    "def loss_func(y, y_hat):\n",
    "    loss = y * cost1(y_hat) + (1-y) * cost0(y_hat) \n",
    "    return loss\n",
    "\n",
    "def checkTP(y, y_hat, forPred=False):\n",
    "    pos = 0\n",
    "    if y_hat <= 0:\n",
    "        pred = -1\n",
    "    else: \n",
    "        pred = 1\n",
    "    if pred == y:\n",
    "        pos += 1\n",
    "    if forPred:\n",
    "        return 0 if pred<0 else pred, pos\n",
    "    else:\n",
    "        return pos\n",
    "    "
   ]
  },
  {
   "cell_type": "code",
   "execution_count": 351,
   "id": "ea7fac0f",
   "metadata": {
    "scrolled": true
   },
   "outputs": [
    {
     "name": "stdout",
     "output_type": "stream",
     "text": [
      "Epoch: 0\tAccuracy: 0.3875\tLoss: 39791.17591554386\n",
      "Epoch: 1\tAccuracy: 0.275\tLoss: 11273.548104312016\n",
      "Epoch: 2\tAccuracy: 0.95\tLoss: 2391.5565810654903\n",
      "Epoch: 3\tAccuracy: 1.0\tLoss: 228.76425671362773\n",
      "Epoch: 4\tAccuracy: 1.0\tLoss: 109.9326974039511\n",
      "Epoch: 5\tAccuracy: 1.0\tLoss: 123.19045706292732\n",
      "Epoch: 6\tAccuracy: 1.0\tLoss: 33.50541367907756\n",
      "Epoch: 7\tAccuracy: 1.0\tLoss: 80.3951740515232\n",
      "Epoch: 8\tAccuracy: 1.0\tLoss: 54.711530172306965\n",
      "Epoch: 9\tAccuracy: 1.0\tLoss: 56.8483467410919\n",
      "Epoch: 10\tAccuracy: 1.0\tLoss: 53.074549877857116\n",
      "Epoch: 11\tAccuracy: 1.0\tLoss: 51.39057204771864\n",
      "Epoch: 12\tAccuracy: 1.0\tLoss: 51.32739768988713\n",
      "Epoch: 13\tAccuracy: 1.0\tLoss: 47.554160764505\n",
      "Epoch: 14\tAccuracy: 1.0\tLoss: 43.781303055669866\n",
      "Epoch: 15\tAccuracy: 1.0\tLoss: 40.00882456338166\n",
      "Epoch: 16\tAccuracy: 1.0\tLoss: 36.44589617155184\n",
      "Epoch: 17\tAccuracy: 1.0\tLoss: 38.2643971530017\n",
      "Epoch: 18\tAccuracy: 1.0\tLoss: 34.49247859856619\n",
      "Epoch: 19\tAccuracy: 1.0\tLoss: 30.72093926067766\n",
      "Epoch: 20\tAccuracy: 1.0\tLoss: 27.707631588386768\n",
      "Epoch: 21\tAccuracy: 1.0\tLoss: 1.294966644612955\n",
      "Epoch: 22\tAccuracy: 1.0\tLoss: 1.294966644612955\n",
      "Epoch: 23\tAccuracy: 1.0\tLoss: 1.294966644612955\n",
      "Epoch: 24\tAccuracy: 1.0\tLoss: 1.294966644612955\n",
      "Epoch: 25\tAccuracy: 1.0\tLoss: 1.294966644612955\n",
      "Epoch: 26\tAccuracy: 1.0\tLoss: 1.294966644612955\n",
      "Epoch: 27\tAccuracy: 1.0\tLoss: 1.294966644612955\n",
      "Epoch: 28\tAccuracy: 1.0\tLoss: 1.294966644612955\n",
      "Epoch: 29\tAccuracy: 1.0\tLoss: 1.294966644612955\n"
     ]
    }
   ],
   "source": [
    "epochs = 30\n",
    "lr = 0.01\n",
    "lam = 0.01\n",
    "w = np.random.normal(loc=0.0, scale=np.sqrt(2/3), size=(1, 2)).astype('float64')\n",
    "b = np.random.normal(loc=0.0, scale=np.sqrt(2/3), size=(1,)).astype('float64')\n",
    "loss_arr = []\n",
    "\n",
    "for i in range(epochs):\n",
    "    loss = 0\n",
    "    tp = 0\n",
    "    for j, x in enumerate(X_train):\n",
    "        \n",
    "        y = y_train[j]\n",
    "        y = np.where(y <=0, -1, 1)\n",
    "        y_hat = np.dot(w, x) + b\n",
    "        score = y*y_hat\n",
    "        \n",
    "        #calculating the true positive rate\n",
    "        tp += checkTP(y, y_hat)\n",
    "\n",
    "        \n",
    "        #loss\n",
    "        loss += max(0, 1-score)\n",
    "        \n",
    "        #calculate and update gradient\n",
    "        dw = 0 if score > 1 else -y*x\n",
    "        db = 0 if score >= 1 else -y\n",
    "        w -=  lr * dw\n",
    "        b -= lr*db\n",
    "        \n",
    "        \n",
    "    loss =  (loss/lam + (np.linalg.norm(w)**2)/2)\n",
    "    loss_arr.append(loss)\n",
    "    print(f\"Epoch: {i}\\tAccuracy: {tp/len(X_train)}\\tLoss: {float(loss)}\")"
   ]
  },
  {
   "cell_type": "code",
   "execution_count": 352,
   "id": "77176a32",
   "metadata": {},
   "outputs": [
    {
     "name": "stderr",
     "output_type": "stream",
     "text": [
      "C:\\Users\\saumy\\AppData\\Local\\Temp\\ipykernel_16280\\3326041394.py:1: VisibleDeprecationWarning:\n",
      "\n",
      "Creating an ndarray from ragged nested sequences (which is a list-or-tuple of lists-or-tuples-or ndarrays with different lengths or shapes) is deprecated. If you meant to do this, you must specify 'dtype=object' when creating the ndarray.\n",
      "\n"
     ]
    },
    {
     "data": {
      "text/plain": [
       "[<matplotlib.lines.Line2D at 0x2832ed51be0>]"
      ]
     },
     "execution_count": 352,
     "metadata": {},
     "output_type": "execute_result"
    },
    {
     "data": {
      "image/png": "[encoded data removed]",
      "text/plain": [
       "<Figure size 432x288 with 1 Axes>"
      ]
     },
     "metadata": {
      "needs_background": "light"
     },
     "output_type": "display_data"
    }
   ],
   "source": [
    "plt.plot(np.arange(epochs), np.array(loss_arr))"
   ]
  },
  {
   "cell_type": "code",
   "execution_count": 353,
   "id": "f9247e9c",
   "metadata": {},
   "outputs": [
    {
     "name": "stdout",
     "output_type": "stream",
     "text": [
      "Actual: 1\tPredicted: 1\n",
      "Actual: 0\tPredicted: 0\n",
      "Actual: 0\tPredicted: 0\n",
      "Actual: 1\tPredicted: 1\n",
      "Actual: 1\tPredicted: 1\n",
      "Actual: 0\tPredicted: 0\n",
      "Actual: 1\tPredicted: 1\n",
      "Actual: 0\tPredicted: 0\n",
      "Actual: 1\tPredicted: 1\n",
      "Actual: 1\tPredicted: 1\n",
      "Actual: 1\tPredicted: 1\n",
      "Actual: 0\tPredicted: 0\n",
      "Actual: 0\tPredicted: 0\n",
      "Actual: 1\tPredicted: 1\n",
      "Actual: 0\tPredicted: 0\n",
      "Actual: 1\tPredicted: 1\n",
      "Actual: 0\tPredicted: 0\n",
      "Actual: 1\tPredicted: 1\n",
      "Actual: 1\tPredicted: 1\n",
      "Actual: 0\tPredicted: 0\n",
      "\n",
      "\n",
      "Accuracy of test data: 1.0\n"
     ]
    }
   ],
   "source": [
    "X_test = np.array(X_test).astype('float64')\n",
    "y_test = np.array(y_test).astype('float64')\n",
    "tp = 0\n",
    "for j, x in enumerate(X_test):\n",
    "    \n",
    "    y = int(y_test[j])\n",
    "    y = np.where(y <=0, -1, 1)\n",
    "    y_hat = float(np.dot(w, x)) + b\n",
    "    pred, tp1 = checkTP(y, y_hat, forPred=True)\n",
    "    tp += tp1\n",
    "    y = np.where(y <=0, 0, 1)\n",
    "    print(f\"Actual: {y}\\tPredicted: {pred}\")\n",
    "\n",
    "print(f\"\\n\\nAccuracy of test data: {tp/len(X_test)}\")"
   ]
  },
  {
   "cell_type": "code",
   "execution_count": 354,
   "id": "024ea808",
   "metadata": {},
   "outputs": [
    {
     "data": {
      "text/plain": [
       "<matplotlib.collections.PathCollection at 0x2832edc56a0>"
      ]
     },
     "execution_count": 354,
     "metadata": {},
     "output_type": "execute_result"
    },
    {
     "data": {
      "image/png": "[encoded data removed]",
      "text/plain": [
       "<Figure size 432x288 with 1 Axes>"
      ]
     },
     "metadata": {
      "needs_background": "light"
     },
     "output_type": "display_data"
    }
   ],
   "source": [
    "x = np.linspace(4, 10, len(ds)).reshape(len(ds), 1)\n",
    "w1 = w[0][0]\n",
    "w2 = w[0][1]\n",
    "y = -(w1* x + b)/ w2\n",
    "y1 = -(w1 *x + b + 1)/ w2\n",
    "y2 = -(w1 *x +b - 1)/ w2\n",
    "\n",
    "plt.plot(x, y, color='red')\n",
    "plt.plot(x, y1, color='purple')\n",
    "plt.plot(x, y2, color='purple')\n",
    "\n",
    "\n",
    "X = np.array(ds.iloc[:, :]).T\n",
    "a = X[0]\n",
    "b = X[1]\n",
    "\n",
    "\n",
    "plt.scatter(a, b)"
   ]
  },
  {
   "cell_type": "markdown",
   "id": "701c62d4",
   "metadata": {},
   "source": [
    "# SVM Classifier for None Linear Dataset Without Kernel Trick"
   ]
  },
  {
   "cell_type": "code",
   "execution_count": null,
   "id": "b08bcf96",
   "metadata": {},
   "outputs": [],
   "source": []
  },
  {
   "cell_type": "markdown",
   "id": "0d9e1c70",
   "metadata": {},
   "source": [
    "# \n",
    "# Creating a SVM classifier for a non-linearly separable dataset.\n",
    "# "
   ]
  },
  {
   "cell_type": "code",
   "execution_count": 355,
   "id": "53bfbf3a",
   "metadata": {},
   "outputs": [
    {
     "data": {
      "application/vnd.plotly.v1+json": {
       "config": {
        "plotlyServerURL": "https://plot.ly"
       },
       "data": [
        {
         "hovertemplate": "x=%{x}<br>y=%{y}<br>z=%{z}<br>Species=%{marker.color}<extra></extra>",
         "legendgroup": "",
         "marker": {
          "color": [
           1,
           1,
           1,
           1,
           1,
           1,
           1,
           1,
           1,
           1,
           1,
           1,
           1,
           1,
           1,
           1,
           1,
           1,
           1,
           1,
           1,
           1,
           1,
           1,
           1,
           1,
           1,
           1,
           1,
           1,
           1,
           1,
           1,
           1,
           1,
           1,
           1,
           1,
           1,
           1,
           1,
           1,
           1,
           1,
           1,
           1,
           1,
           1,
           1,
           1,
           2,
           2,
           2,
           2,
           2,
           2,
           2,
           2,
           2,
           2,
           2,
           2,
           2,
           2,
           2,
           2,
           2,
           2,
           2,
           2,
           2,
           2,
           2,
           2,
           2,
           2,
           2,
           2,
           2,
           2,
           2,
           2,
           2,
           2,
           2,
           2,
           2,
           2,
           2,
           2,
           2,
           2,
           2,
           2,
           2,
           2,
           2,
           2,
           2,
           2
          ],
          "coloraxis": "coloraxis",
          "symbol": "circle"
         },
         "mode": "markers",
         "name": "",
         "scene": "scene",
         "showlegend": false,
         "type": "scatter3d",
         "x": [
          9.12033960484776,
          8.583796520791644,
          9.12666208430314,
          7.275784409144775,
          8.55831307289487,
          7.872487671214848,
          8.666076673585588,
          6.453492958184793,
          8.637832847139412,
          7.167822180664871,
          6.4793246040090064,
          7.978309540993292,
          7.563025796546163,
          8.330351849305622,
          7.373513859335883,
          8.70306507183742,
          7.906904406978153,
          7.654001463494824,
          8.053774543980097,
          7.3419679263376105,
          8.412521577883936,
          7.9163794228473785,
          8.448088233931255,
          8.258797145152231,
          8.33365395585772,
          8.589969430108773,
          8.869505741772889,
          9.023340598720221,
          8.169392790546336,
          7.233015259440258,
          7.177557190887976,
          7.109454163424936,
          7.584947143536959,
          8.418113613275747,
          7.756670796859422,
          8.376074907634798,
          8.873798286742435,
          8.081979224503652,
          7.668068164610098,
          7.351742082483338,
          7.578193360294513,
          8.317015592253917,
          7.598283400588664,
          6.490630926574877,
          7.60544674832324,
          7.777712129648398,
          7.75652122672117,
          8.183420345738988,
          6.504548057551899,
          7.667227296330901,
          9.484264295636898,
          8.318243804383174,
          9.85279539741478,
          9.009573037881449,
          9.367567407079651,
          10.587585078758517,
          7.224768455700291,
          10.119946744522016,
          9.260755098883761,
          10.325567144900024,
          9.0507435568872,
          8.871574822181346,
          9.422184607352737,
          8.132642166006315,
          8.440162309762727,
          9.12862074049597,
          9.146470390948476,
          11.034635604635175,
          10.698307685787828,
          8.160116402466299,
          9.709465140676746,
          8.120146777233806,
          10.621271370458254,
          8.57440970849598,
          9.563634499743188,
          10.004821168307535,
          8.485956646384908,
          8.538112608385092,
          9.097074807497695,
          9.792657440042891,
          10.071242459212181,
          10.997348066106841,
          9.113862741239748,
          8.664654931381072,
          8.678251182786656,
          10.43970228269706,
          9.30019482368018,
          9.109332422558392,
          8.411680709604738,
          9.483965155360398,
          9.4867255339098,
          9.363595741681545,
          8.318243804383174,
          9.736978523059355,
          9.630786234711403,
          9.226698388614519,
          8.566555062620457,
          9.026100977269625,
          9.105659897436787,
          8.490509185708333
         ],
         "y": [
          -0.07002199212522091,
          -0.13421666353172665,
          -0.32934965725617504,
          -0.45846424523632645,
          -0.39447934424804215,
          -0.48330254801240524,
          -0.28456637757045455,
          0.024182810003273547,
          -0.24245558340525536,
          -0.289843601092016,
          -0.30696974519401593,
          -0.17344047092659307,
          -0.2666102070155368,
          -0.49073678230557166,
          0.18061220191336205,
          0.0024093679242508464,
          -0.4718593822168521,
          -0.12222139566416848,
          -0.7362726108910848,
          -0.1810616343664522,
          -0.5932293007415517,
          -0.014520791811085985,
          -0.8277820862275292,
          -0.47627406850412396,
          -0.0869521518605578,
          -0.08066270357097492,
          -0.41603396068887294,
          -0.5808463885290481,
          -0.412015973966516,
          0.22004577972645029,
          -0.19324383138070383,
          -0.08787811222594949,
          -0.04939333604978157,
          -0.9808090166183673,
          -0.5290255741150761,
          -0.17404694090972994,
          -0.2447361001924517,
          -0.513358975567325,
          -0.11934819494539453,
          -0.3494862941440998,
          -0.544080971848102,
          -0.36535793227848345,
          -0.174772186076869,
          -0.0017230695937277551,
          -0.35370499606470895,
          -0.12717912880347554,
          -0.21614394902336986,
          -0.14411834375878227,
          0.31403175621675283,
          -0.19974305008850873,
          -1.5164173478871419,
          -1.1414027425379336,
          -1.2424262537564876,
          -1.2094828394312356,
          -1.3775107996439675,
          -1.5957398953777446,
          -1.0133376209387654,
          -1.4198810013069312,
          -1.454886106781188,
          -1.1665924321877643,
          -0.7033520378373609,
          -1.111683915805208,
          -1.044616043679928,
          -1.242549759772079,
          -1.2592929903607228,
          -0.977142416769763,
          -1.0269377975059235,
          -1.23661071421448,
          -2.0667340144035693,
          -1.1478881751941798,
          -1.1177864349480982,
          -1.0367760546018778,
          -1.7125487803280532,
          -0.8222316691566441,
          -1.0515119619526487,
          -1.0723275471747808,
          -0.7254359150786684,
          -0.7159309344165282,
          -1.338816253049578,
          -0.9705740599574986,
          -1.3384829766157642,
          -0.897823209525772,
          -1.3732920977233585,
          -0.8060949085511369,
          -1.2922125792726777,
          -1.2816591163713231,
          -1.1438930297433514,
          -1.0010319179089222,
          -0.6736241558846663,
          -0.8906540977037285,
          -1.1930275725852424,
          -0.7469361636083667,
          -1.1414027425379336,
          -1.288149279859159,
          -1.1894153406477708,
          -0.9294812055336794,
          -1.036575339403625,
          -0.8832198634105624,
          -0.9962205320567353,
          -0.9148768752767008
         ],
         "z": [
          0,
          1,
          2,
          3,
          4,
          5,
          6,
          7,
          8,
          9,
          10,
          11,
          12,
          13,
          14,
          15,
          16,
          17,
          18,
          19,
          20,
          21,
          22,
          23,
          24,
          25,
          26,
          27,
          28,
          29,
          30,
          31,
          32,
          33,
          34,
          35,
          36,
          37,
          38,
          39,
          40,
          41,
          42,
          43,
          44,
          45,
          46,
          47,
          48,
          49,
          50,
          51,
          52,
          53,
          54,
          55,
          56,
          57,
          58,
          59,
          60,
          61,
          62,
          63,
          64,
          65,
          66,
          67,
          68,
          69,
          70,
          71,
          72,
          73,
          74,
          75,
          76,
          77,
          78,
          79,
          80,
          81,
          82,
          83,
          84,
          85,
          86,
          87,
          88,
          89,
          90,
          91,
          92,
          93,
          94,
          95,
          96,
          97,
          98,
          99
         ]
        }
       ],
       "layout": {
        "coloraxis": {
         "colorbar": {
          "title": {
           "text": "Species"
          }
         },
         "colorscale": [
          [
           0,
           "#0d0887"
          ],
          [
           0.1111111111111111,
           "#46039f"
          ],
          [
           0.2222222222222222,
           "#7201a8"
          ],
          [
           0.3333333333333333,
           "#9c179e"
          ],
          [
           0.4444444444444444,
           "#bd3786"
          ],
          [
           0.5555555555555556,
           "#d8576b"
          ],
          [
           0.6666666666666666,
           "#ed7953"
          ],
          [
           0.7777777777777778,
           "#fb9f3a"
          ],
          [
           0.8888888888888888,
           "#fdca26"
          ],
          [
           1,
           "#f0f921"
          ]
         ]
        },
        "legend": {
         "tracegroupgap": 0
        },
        "margin": {
         "t": 60
        },
        "scene": {
         "domain": {
          "x": [
           0,
           1
          ],
          "y": [
           0,
           1
          ]
         },
         "xaxis": {
          "title": {
           "text": "x"
          }
         },
         "yaxis": {
          "title": {
           "text": "y"
          }
         },
         "zaxis": {
          "title": {
           "text": "z"
          }
         }
        },
        "template": {
         "data": {
          "bar": [
           {
            "error_x": {
             "color": "#2a3f5f"
            },
            "error_y": {
             "color": "#2a3f5f"
            },
            "marker": {
             "line": {
              "color": "#E5ECF6",
              "width": 0.5
             },
             "pattern": {
              "fillmode": "overlay",
              "size": 10,
              "solidity": 0.2
             }
            },
            "type": "bar"
           }
          ],
          "barpolar": [
           {
            "marker": {
             "line": {
              "color": "#E5ECF6",
              "width": 0.5
             },
             "pattern": {
              "fillmode": "overlay",
              "size": 10,
              "solidity": 0.2
             }
            },
            "type": "barpolar"
           }
          ],
          "carpet": [
           {
            "aaxis": {
             "endlinecolor": "#2a3f5f",
             "gridcolor": "white",
             "linecolor": "white",
             "minorgridcolor": "white",
             "startlinecolor": "#2a3f5f"
            },
            "baxis": {
             "endlinecolor": "#2a3f5f",
             "gridcolor": "white",
             "linecolor": "white",
             "minorgridcolor": "white",
             "startlinecolor": "#2a3f5f"
            },
            "type": "carpet"
           }
          ],
          "choropleth": [
           {
            "colorbar": {
             "outlinewidth": 0,
             "ticks": ""
            },
            "type": "choropleth"
           }
          ],
          "contour": [
           {
            "colorbar": {
             "outlinewidth": 0,
             "ticks": ""
            },
            "colorscale": [
             [
              0,
              "#0d0887"
             ],
             [
              0.1111111111111111,
              "#46039f"
             ],
             [
              0.2222222222222222,
              "#7201a8"
             ],
             [
              0.3333333333333333,
              "#9c179e"
             ],
             [
              0.4444444444444444,
              "#bd3786"
             ],
             [
              0.5555555555555556,
              "#d8576b"
             ],
             [
              0.6666666666666666,
              "#ed7953"
             ],
             [
              0.7777777777777778,
              "#fb9f3a"
             ],
             [
              0.8888888888888888,
              "#fdca26"
             ],
             [
              1,
              "#f0f921"
             ]
            ],
            "type": "contour"
           }
          ],
          "contourcarpet": [
           {
            "colorbar": {
             "outlinewidth": 0,
             "ticks": ""
            },
            "type": "contourcarpet"
           }
          ],
          "heatmap": [
           {
            "colorbar": {
             "outlinewidth": 0,
             "ticks": ""
            },
            "colorscale": [
             [
              0,
              "#0d0887"
             ],
             [
              0.1111111111111111,
              "#46039f"
             ],
             [
              0.2222222222222222,
              "#7201a8"
             ],
             [
              0.3333333333333333,
              "#9c179e"
             ],
             [
              0.4444444444444444,
              "#bd3786"
             ],
             [
              0.5555555555555556,
              "#d8576b"
             ],
             [
              0.6666666666666666,
              "#ed7953"
             ],
             [
              0.7777777777777778,
              "#fb9f3a"
             ],
             [
              0.8888888888888888,
              "#fdca26"
             ],
             [
              1,
              "#f0f921"
             ]
            ],
            "type": "heatmap"
           }
          ],
          "heatmapgl": [
           {
            "colorbar": {
             "outlinewidth": 0,
             "ticks": ""
            },
            "colorscale": [
             [
              0,
              "#0d0887"
             ],
             [
              0.1111111111111111,
              "#46039f"
             ],
             [
              0.2222222222222222,
              "#7201a8"
             ],
             [
              0.3333333333333333,
              "#9c179e"
             ],
             [
              0.4444444444444444,
              "#bd3786"
             ],
             [
              0.5555555555555556,
              "#d8576b"
             ],
             [
              0.6666666666666666,
              "#ed7953"
             ],
             [
              0.7777777777777778,
              "#fb9f3a"
             ],
             [
              0.8888888888888888,
              "#fdca26"
             ],
             [
              1,
              "#f0f921"
             ]
            ],
            "type": "heatmapgl"
           }
          ],
          "histogram": [
           {
            "marker": {
             "pattern": {
              "fillmode": "overlay",
              "size": 10,
              "solidity": 0.2
             }
            },
            "type": "histogram"
           }
          ],
          "histogram2d": [
           {
            "colorbar": {
             "outlinewidth": 0,
             "ticks": ""
            },
            "colorscale": [
             [
              0,
              "#0d0887"
             ],
             [
              0.1111111111111111,
              "#46039f"
             ],
             [
              0.2222222222222222,
              "#7201a8"
             ],
             [
              0.3333333333333333,
              "#9c179e"
             ],
             [
              0.4444444444444444,
              "#bd3786"
             ],
             [
              0.5555555555555556,
              "#d8576b"
             ],
             [
              0.6666666666666666,
              "#ed7953"
             ],
             [
              0.7777777777777778,
              "#fb9f3a"
             ],
             [
              0.8888888888888888,
              "#fdca26"
             ],
             [
              1,
              "#f0f921"
             ]
            ],
            "type": "histogram2d"
           }
          ],
          "histogram2dcontour": [
           {
            "colorbar": {
             "outlinewidth": 0,
             "ticks": ""
            },
            "colorscale": [
             [
              0,
              "#0d0887"
             ],
             [
              0.1111111111111111,
              "#46039f"
             ],
             [
              0.2222222222222222,
              "#7201a8"
             ],
             [
              0.3333333333333333,
              "#9c179e"
             ],
             [
              0.4444444444444444,
              "#bd3786"
             ],
             [
              0.5555555555555556,
              "#d8576b"
             ],
             [
              0.6666666666666666,
              "#ed7953"
             ],
             [
              0.7777777777777778,
              "#fb9f3a"
             ],
             [
              0.8888888888888888,
              "#fdca26"
             ],
             [
              1,
              "#f0f921"
             ]
            ],
            "type": "histogram2dcontour"
           }
          ],
          "mesh3d": [
           {
            "colorbar": {
             "outlinewidth": 0,
             "ticks": ""
            },
            "type": "mesh3d"
           }
          ],
          "parcoords": [
           {
            "line": {
             "colorbar": {
              "outlinewidth": 0,
              "ticks": ""
             }
            },
            "type": "parcoords"
           }
          ],
          "pie": [
           {
            "automargin": true,
            "type": "pie"
           }
          ],
          "scatter": [
           {
            "marker": {
             "colorbar": {
              "outlinewidth": 0,
              "ticks": ""
             }
            },
            "type": "scatter"
           }
          ],
          "scatter3d": [
           {
            "line": {
             "colorbar": {
              "outlinewidth": 0,
              "ticks": ""
             }
            },
            "marker": {
             "colorbar": {
              "outlinewidth": 0,
              "ticks": ""
             }
            },
            "type": "scatter3d"
           }
          ],
          "scattercarpet": [
           {
            "marker": {
             "colorbar": {
              "outlinewidth": 0,
              "ticks": ""
             }
            },
            "type": "scattercarpet"
           }
          ],
          "scattergeo": [
           {
            "marker": {
             "colorbar": {
              "outlinewidth": 0,
              "ticks": ""
             }
            },
            "type": "scattergeo"
           }
          ],
          "scattergl": [
           {
            "marker": {
             "colorbar": {
              "outlinewidth": 0,
              "ticks": ""
             }
            },
            "type": "scattergl"
           }
          ],
          "scattermapbox": [
           {
            "marker": {
             "colorbar": {
              "outlinewidth": 0,
              "ticks": ""
             }
            },
            "type": "scattermapbox"
           }
          ],
          "scatterpolar": [
           {
            "marker": {
             "colorbar": {
              "outlinewidth": 0,
              "ticks": ""
             }
            },
            "type": "scatterpolar"
           }
          ],
          "scatterpolargl": [
           {
            "marker": {
             "colorbar": {
              "outlinewidth": 0,
              "ticks": ""
             }
            },
            "type": "scatterpolargl"
           }
          ],
          "scatterternary": [
           {
            "marker": {
             "colorbar": {
              "outlinewidth": 0,
              "ticks": ""
             }
            },
            "type": "scatterternary"
           }
          ],
          "surface": [
           {
            "colorbar": {
             "outlinewidth": 0,
             "ticks": ""
            },
            "colorscale": [
             [
              0,
              "#0d0887"
             ],
             [
              0.1111111111111111,
              "#46039f"
             ],
             [
              0.2222222222222222,
              "#7201a8"
             ],
             [
              0.3333333333333333,
              "#9c179e"
             ],
             [
              0.4444444444444444,
              "#bd3786"
             ],
             [
              0.5555555555555556,
              "#d8576b"
             ],
             [
              0.6666666666666666,
              "#ed7953"
             ],
             [
              0.7777777777777778,
              "#fb9f3a"
             ],
             [
              0.8888888888888888,
              "#fdca26"
             ],
             [
              1,
              "#f0f921"
             ]
            ],
            "type": "surface"
           }
          ],
          "table": [
           {
            "cells": {
             "fill": {
              "color": "#EBF0F8"
             },
             "line": {
              "color": "white"
             }
            },
            "header": {
             "fill": {
              "color": "#C8D4E3"
             },
             "line": {
              "color": "white"
             }
            },
            "type": "table"
           }
          ]
         },
         "layout": {
          "annotationdefaults": {
           "arrowcolor": "#2a3f5f",
           "arrowhead": 0,
           "arrowwidth": 1
          },
          "autotypenumbers": "strict",
          "coloraxis": {
           "colorbar": {
            "outlinewidth": 0,
            "ticks": ""
           }
          },
          "colorscale": {
           "diverging": [
            [
             0,
             "#8e0152"
            ],
            [
             0.1,
             "#c51b7d"
            ],
            [
             0.2,
             "#de77ae"
            ],
            [
             0.3,
             "#f1b6da"
            ],
            [
             0.4,
             "#fde0ef"
            ],
            [
             0.5,
             "#f7f7f7"
            ],
            [
             0.6,
             "#e6f5d0"
            ],
            [
             0.7,
             "#b8e186"
            ],
            [
             0.8,
             "#7fbc41"
            ],
            [
             0.9,
             "#4d9221"
            ],
            [
             1,
             "#276419"
            ]
           ],
           "sequential": [
            [
             0,
             "#0d0887"
            ],
            [
             0.1111111111111111,
             "#46039f"
            ],
            [
             0.2222222222222222,
             "#7201a8"
            ],
            [
             0.3333333333333333,
             "#9c179e"
            ],
            [
             0.4444444444444444,
             "#bd3786"
            ],
            [
             0.5555555555555556,
             "#d8576b"
            ],
            [
             0.6666666666666666,
             "#ed7953"
            ],
            [
             0.7777777777777778,
             "#fb9f3a"
            ],
            [
             0.8888888888888888,
             "#fdca26"
            ],
            [
             1,
             "#f0f921"
            ]
           ],
           "sequentialminus": [
            [
             0,
             "#0d0887"
            ],
            [
             0.1111111111111111,
             "#46039f"
            ],
            [
             0.2222222222222222,
             "#7201a8"
            ],
            [
             0.3333333333333333,
             "#9c179e"
            ],
            [
             0.4444444444444444,
             "#bd3786"
            ],
            [
             0.5555555555555556,
             "#d8576b"
            ],
            [
             0.6666666666666666,
             "#ed7953"
            ],
            [
             0.7777777777777778,
             "#fb9f3a"
            ],
            [
             0.8888888888888888,
             "#fdca26"
            ],
            [
             1,
             "#f0f921"
            ]
           ]
          },
          "colorway": [
           "#636efa",
           "#EF553B",
           "#00cc96",
           "#ab63fa",
           "#FFA15A",
           "#19d3f3",
           "#FF6692",
           "#B6E880",
           "#FF97FF",
           "#FECB52"
          ],
          "font": {
           "color": "#2a3f5f"
          },
          "geo": {
           "bgcolor": "white",
           "lakecolor": "white",
           "landcolor": "#E5ECF6",
           "showlakes": true,
           "showland": true,
           "subunitcolor": "white"
          },
          "hoverlabel": {
           "align": "left"
          },
          "hovermode": "closest",
          "mapbox": {
           "style": "light"
          },
          "paper_bgcolor": "white",
          "plot_bgcolor": "#E5ECF6",
          "polar": {
           "angularaxis": {
            "gridcolor": "white",
            "linecolor": "white",
            "ticks": ""
           },
           "bgcolor": "#E5ECF6",
           "radialaxis": {
            "gridcolor": "white",
            "linecolor": "white",
            "ticks": ""
           }
          },
          "scene": {
           "xaxis": {
            "backgroundcolor": "#E5ECF6",
            "gridcolor": "white",
            "gridwidth": 2,
            "linecolor": "white",
            "showbackground": true,
            "ticks": "",
            "zerolinecolor": "white"
           },
           "yaxis": {
            "backgroundcolor": "#E5ECF6",
            "gridcolor": "white",
            "gridwidth": 2,
            "linecolor": "white",
            "showbackground": true,
            "ticks": "",
            "zerolinecolor": "white"
           },
           "zaxis": {
            "backgroundcolor": "#E5ECF6",
            "gridcolor": "white",
            "gridwidth": 2,
            "linecolor": "white",
            "showbackground": true,
            "ticks": "",
            "zerolinecolor": "white"
           }
          },
          "shapedefaults": {
           "line": {
            "color": "#2a3f5f"
           }
          },
          "ternary": {
           "aaxis": {
            "gridcolor": "white",
            "linecolor": "white",
            "ticks": ""
           },
           "baxis": {
            "gridcolor": "white",
            "linecolor": "white",
            "ticks": ""
           },
           "bgcolor": "#E5ECF6",
           "caxis": {
            "gridcolor": "white",
            "linecolor": "white",
            "ticks": ""
           }
          },
          "title": {
           "x": 0.05
          },
          "xaxis": {
           "automargin": true,
           "gridcolor": "white",
           "linecolor": "white",
           "ticks": "",
           "title": {
            "standoff": 15
           },
           "zerolinecolor": "white",
           "zerolinewidth": 2
          },
          "yaxis": {
           "automargin": true,
           "gridcolor": "white",
           "linecolor": "white",
           "ticks": "",
           "title": {
            "standoff": 15
           },
           "zerolinecolor": "white",
           "zerolinewidth": 2
          }
         }
        }
       }
      },
      "text/html": [
       "<div>                            <div id=\"8a5d02cb-9bc8-47ee-9e85-0307240d6e9a\" class=\"plotly-graph-div\" style=\"height:525px; width:100%;\"></div>            <script type=\"text/javascript\">                require([\"plotly\"], function(Plotly) {                    window.PLOTLYENV=window.PLOTLYENV || {};                                    if (document.getElementById(\"8a5d02cb-9bc8-47ee-9e85-0307240d6e9a\")) {                    Plotly.newPlot(                        \"8a5d02cb-9bc8-47ee-9e85-0307240d6e9a\",                        [{\"hovertemplate\":\"x=%{x}<br>y=%{y}<br>z=%{z}<br>Species=%{marker.color}<extra></extra>\",\"legendgroup\":\"\",\"marker\":{\"color\":[1.0,1.0,1.0,1.0,1.0,1.0,1.0,1.0,1.0,1.0,1.0,1.0,1.0,1.0,1.0,1.0,1.0,1.0,1.0,1.0,1.0,1.0,1.0,1.0,1.0,1.0,1.0,1.0,1.0,1.0,1.0,1.0,1.0,1.0,1.0,1.0,1.0,1.0,1.0,1.0,1.0,1.0,1.0,1.0,1.0,1.0,1.0,1.0,1.0,1.0,2.0,2.0,2.0,2.0,2.0,2.0,2.0,2.0,2.0,2.0,2.0,2.0,2.0,2.0,2.0,2.0,2.0,2.0,2.0,2.0,2.0,2.0,2.0,2.0,2.0,2.0,2.0,2.0,2.0,2.0,2.0,2.0,2.0,2.0,2.0,2.0,2.0,2.0,2.0,2.0,2.0,2.0,2.0,2.0,2.0,2.0,2.0,2.0,2.0,2.0],\"coloraxis\":\"coloraxis\",\"symbol\":\"circle\"},\"mode\":\"markers\",\"name\":\"\",\"scene\":\"scene\",\"showlegend\":false,\"x\":[9.12033960484776,8.583796520791644,9.12666208430314,7.275784409144775,8.55831307289487,7.872487671214848,8.666076673585588,6.453492958184793,8.637832847139412,7.167822180664871,6.4793246040090064,7.978309540993292,7.563025796546163,8.330351849305622,7.373513859335883,8.70306507183742,7.906904406978153,7.654001463494824,8.053774543980097,7.3419679263376105,8.412521577883936,7.9163794228473785,8.448088233931255,8.258797145152231,8.33365395585772,8.589969430108773,8.869505741772889,9.023340598720221,8.169392790546336,7.233015259440258,7.177557190887976,7.109454163424936,7.584947143536959,8.418113613275747,7.756670796859422,8.376074907634798,8.873798286742435,8.081979224503652,7.668068164610098,7.351742082483338,7.578193360294513,8.317015592253917,7.598283400588664,6.490630926574877,7.60544674832324,7.777712129648398,7.75652122672117,8.183420345738988,6.504548057551899,7.667227296330901,9.484264295636898,8.318243804383174,9.85279539741478,9.009573037881449,9.367567407079651,10.587585078758517,7.224768455700291,10.119946744522016,9.260755098883761,10.325567144900024,9.0507435568872,8.871574822181346,9.422184607352737,8.132642166006315,8.440162309762727,9.12862074049597,9.146470390948476,11.034635604635175,10.698307685787828,8.160116402466299,9.709465140676746,8.120146777233806,10.621271370458254,8.57440970849598,9.563634499743188,10.004821168307535,8.485956646384908,8.538112608385092,9.097074807497695,9.792657440042891,10.071242459212181,10.997348066106841,9.113862741239748,8.664654931381072,8.678251182786656,10.43970228269706,9.30019482368018,9.109332422558392,8.411680709604738,9.483965155360398,9.4867255339098,9.363595741681545,8.318243804383174,9.736978523059355,9.630786234711403,9.226698388614519,8.566555062620457,9.026100977269625,9.105659897436787,8.490509185708333],\"y\":[-0.07002199212522091,-0.13421666353172665,-0.32934965725617504,-0.45846424523632645,-0.39447934424804215,-0.48330254801240524,-0.28456637757045455,0.024182810003273547,-0.24245558340525536,-0.289843601092016,-0.30696974519401593,-0.17344047092659307,-0.2666102070155368,-0.49073678230557166,0.18061220191336205,0.0024093679242508464,-0.4718593822168521,-0.12222139566416848,-0.7362726108910848,-0.1810616343664522,-0.5932293007415517,-0.014520791811085985,-0.8277820862275292,-0.47627406850412396,-0.0869521518605578,-0.08066270357097492,-0.41603396068887294,-0.5808463885290481,-0.412015973966516,0.22004577972645029,-0.19324383138070383,-0.08787811222594949,-0.04939333604978157,-0.9808090166183673,-0.5290255741150761,-0.17404694090972994,-0.2447361001924517,-0.513358975567325,-0.11934819494539453,-0.3494862941440998,-0.544080971848102,-0.36535793227848345,-0.174772186076869,-0.0017230695937277551,-0.35370499606470895,-0.12717912880347554,-0.21614394902336986,-0.14411834375878227,0.31403175621675283,-0.19974305008850873,-1.5164173478871419,-1.1414027425379336,-1.2424262537564876,-1.2094828394312356,-1.3775107996439675,-1.5957398953777446,-1.0133376209387654,-1.4198810013069312,-1.454886106781188,-1.1665924321877643,-0.7033520378373609,-1.111683915805208,-1.044616043679928,-1.242549759772079,-1.2592929903607228,-0.977142416769763,-1.0269377975059235,-1.23661071421448,-2.0667340144035693,-1.1478881751941798,-1.1177864349480982,-1.0367760546018778,-1.7125487803280532,-0.8222316691566441,-1.0515119619526487,-1.0723275471747808,-0.7254359150786684,-0.7159309344165282,-1.338816253049578,-0.9705740599574986,-1.3384829766157642,-0.897823209525772,-1.3732920977233585,-0.8060949085511369,-1.2922125792726777,-1.2816591163713231,-1.1438930297433514,-1.0010319179089222,-0.6736241558846663,-0.8906540977037285,-1.1930275725852424,-0.7469361636083667,-1.1414027425379336,-1.288149279859159,-1.1894153406477708,-0.9294812055336794,-1.036575339403625,-0.8832198634105624,-0.9962205320567353,-0.9148768752767008],\"z\":[0,1,2,3,4,5,6,7,8,9,10,11,12,13,14,15,16,17,18,19,20,21,22,23,24,25,26,27,28,29,30,31,32,33,34,35,36,37,38,39,40,41,42,43,44,45,46,47,48,49,50,51,52,53,54,55,56,57,58,59,60,61,62,63,64,65,66,67,68,69,70,71,72,73,74,75,76,77,78,79,80,81,82,83,84,85,86,87,88,89,90,91,92,93,94,95,96,97,98,99],\"type\":\"scatter3d\"}],                        {\"template\":{\"data\":{\"bar\":[{\"error_x\":{\"color\":\"#2a3f5f\"},\"error_y\":{\"color\":\"#2a3f5f\"},\"marker\":{\"line\":{\"color\":\"#E5ECF6\",\"width\":0.5},\"pattern\":{\"fillmode\":\"overlay\",\"size\":10,\"solidity\":0.2}},\"type\":\"bar\"}],\"barpolar\":[{\"marker\":{\"line\":{\"color\":\"#E5ECF6\",\"width\":0.5},\"pattern\":{\"fillmode\":\"overlay\",\"size\":10,\"solidity\":0.2}},\"type\":\"barpolar\"}],\"carpet\":[{\"aaxis\":{\"endlinecolor\":\"#2a3f5f\",\"gridcolor\":\"white\",\"linecolor\":\"white\",\"minorgridcolor\":\"white\",\"startlinecolor\":\"#2a3f5f\"},\"baxis\":{\"endlinecolor\":\"#2a3f5f\",\"gridcolor\":\"white\",\"linecolor\":\"white\",\"minorgridcolor\":\"white\",\"startlinecolor\":\"#2a3f5f\"},\"type\":\"carpet\"}],\"choropleth\":[{\"colorbar\":{\"outlinewidth\":0,\"ticks\":\"\"},\"type\":\"choropleth\"}],\"contour\":[{\"colorbar\":{\"outlinewidth\":0,\"ticks\":\"\"},\"colorscale\":[[0.0,\"#0d0887\"],[0.1111111111111111,\"#46039f\"],[0.2222222222222222,\"#7201a8\"],[0.3333333333333333,\"#9c179e\"],[0.4444444444444444,\"#bd3786\"],[0.5555555555555556,\"#d8576b\"],[0.6666666666666666,\"#ed7953\"],[0.7777777777777778,\"#fb9f3a\"],[0.8888888888888888,\"#fdca26\"],[1.0,\"#f0f921\"]],\"type\":\"contour\"}],\"contourcarpet\":[{\"colorbar\":{\"outlinewidth\":0,\"ticks\":\"\"},\"type\":\"contourcarpet\"}],\"heatmap\":[{\"colorbar\":{\"outlinewidth\":0,\"ticks\":\"\"},\"colorscale\":[[0.0,\"#0d0887\"],[0.1111111111111111,\"#46039f\"],[0.2222222222222222,\"#7201a8\"],[0.3333333333333333,\"#9c179e\"],[0.4444444444444444,\"#bd3786\"],[0.5555555555555556,\"#d8576b\"],[0.6666666666666666,\"#ed7953\"],[0.7777777777777778,\"#fb9f3a\"],[0.8888888888888888,\"#fdca26\"],[1.0,\"#f0f921\"]],\"type\":\"heatmap\"}],\"heatmapgl\":[{\"colorbar\":{\"outlinewidth\":0,\"ticks\":\"\"},\"colorscale\":[[0.0,\"#0d0887\"],[0.1111111111111111,\"#46039f\"],[0.2222222222222222,\"#7201a8\"],[0.3333333333333333,\"#9c179e\"],[0.4444444444444444,\"#bd3786\"],[0.5555555555555556,\"#d8576b\"],[0.6666666666666666,\"#ed7953\"],[0.7777777777777778,\"#fb9f3a\"],[0.8888888888888888,\"#fdca26\"],[1.0,\"#f0f921\"]],\"type\":\"heatmapgl\"}],\"histogram\":[{\"marker\":{\"pattern\":{\"fillmode\":\"overlay\",\"size\":10,\"solidity\":0.2}},\"type\":\"histogram\"}],\"histogram2d\":[{\"colorbar\":{\"outlinewidth\":0,\"ticks\":\"\"},\"colorscale\":[[0.0,\"#0d0887\"],[0.1111111111111111,\"#46039f\"],[0.2222222222222222,\"#7201a8\"],[0.3333333333333333,\"#9c179e\"],[0.4444444444444444,\"#bd3786\"],[0.5555555555555556,\"#d8576b\"],[0.6666666666666666,\"#ed7953\"],[0.7777777777777778,\"#fb9f3a\"],[0.8888888888888888,\"#fdca26\"],[1.0,\"#f0f921\"]],\"type\":\"histogram2d\"}],\"histogram2dcontour\":[{\"colorbar\":{\"outlinewidth\":0,\"ticks\":\"\"},\"colorscale\":[[0.0,\"#0d0887\"],[0.1111111111111111,\"#46039f\"],[0.2222222222222222,\"#7201a8\"],[0.3333333333333333,\"#9c179e\"],[0.4444444444444444,\"#bd3786\"],[0.5555555555555556,\"#d8576b\"],[0.6666666666666666,\"#ed7953\"],[0.7777777777777778,\"#fb9f3a\"],[0.8888888888888888,\"#fdca26\"],[1.0,\"#f0f921\"]],\"type\":\"histogram2dcontour\"}],\"mesh3d\":[{\"colorbar\":{\"outlinewidth\":0,\"ticks\":\"\"},\"type\":\"mesh3d\"}],\"parcoords\":[{\"line\":{\"colorbar\":{\"outlinewidth\":0,\"ticks\":\"\"}},\"type\":\"parcoords\"}],\"pie\":[{\"automargin\":true,\"type\":\"pie\"}],\"scatter\":[{\"marker\":{\"colorbar\":{\"outlinewidth\":0,\"ticks\":\"\"}},\"type\":\"scatter\"}],\"scatter3d\":[{\"line\":{\"colorbar\":{\"outlinewidth\":0,\"ticks\":\"\"}},\"marker\":{\"colorbar\":{\"outlinewidth\":0,\"ticks\":\"\"}},\"type\":\"scatter3d\"}],\"scattercarpet\":[{\"marker\":{\"colorbar\":{\"outlinewidth\":0,\"ticks\":\"\"}},\"type\":\"scattercarpet\"}],\"scattergeo\":[{\"marker\":{\"colorbar\":{\"outlinewidth\":0,\"ticks\":\"\"}},\"type\":\"scattergeo\"}],\"scattergl\":[{\"marker\":{\"colorbar\":{\"outlinewidth\":0,\"ticks\":\"\"}},\"type\":\"scattergl\"}],\"scattermapbox\":[{\"marker\":{\"colorbar\":{\"outlinewidth\":0,\"ticks\":\"\"}},\"type\":\"scattermapbox\"}],\"scatterpolar\":[{\"marker\":{\"colorbar\":{\"outlinewidth\":0,\"ticks\":\"\"}},\"type\":\"scatterpolar\"}],\"scatterpolargl\":[{\"marker\":{\"colorbar\":{\"outlinewidth\":0,\"ticks\":\"\"}},\"type\":\"scatterpolargl\"}],\"scatterternary\":[{\"marker\":{\"colorbar\":{\"outlinewidth\":0,\"ticks\":\"\"}},\"type\":\"scatterternary\"}],\"surface\":[{\"colorbar\":{\"outlinewidth\":0,\"ticks\":\"\"},\"colorscale\":[[0.0,\"#0d0887\"],[0.1111111111111111,\"#46039f\"],[0.2222222222222222,\"#7201a8\"],[0.3333333333333333,\"#9c179e\"],[0.4444444444444444,\"#bd3786\"],[0.5555555555555556,\"#d8576b\"],[0.6666666666666666,\"#ed7953\"],[0.7777777777777778,\"#fb9f3a\"],[0.8888888888888888,\"#fdca26\"],[1.0,\"#f0f921\"]],\"type\":\"surface\"}],\"table\":[{\"cells\":{\"fill\":{\"color\":\"#EBF0F8\"},\"line\":{\"color\":\"white\"}},\"header\":{\"fill\":{\"color\":\"#C8D4E3\"},\"line\":{\"color\":\"white\"}},\"type\":\"table\"}]},\"layout\":{\"annotationdefaults\":{\"arrowcolor\":\"#2a3f5f\",\"arrowhead\":0,\"arrowwidth\":1},\"autotypenumbers\":\"strict\",\"coloraxis\":{\"colorbar\":{\"outlinewidth\":0,\"ticks\":\"\"}},\"colorscale\":{\"diverging\":[[0,\"#8e0152\"],[0.1,\"#c51b7d\"],[0.2,\"#de77ae\"],[0.3,\"#f1b6da\"],[0.4,\"#fde0ef\"],[0.5,\"#f7f7f7\"],[0.6,\"#e6f5d0\"],[0.7,\"#b8e186\"],[0.8,\"#7fbc41\"],[0.9,\"#4d9221\"],[1,\"#276419\"]],\"sequential\":[[0.0,\"#0d0887\"],[0.1111111111111111,\"#46039f\"],[0.2222222222222222,\"#7201a8\"],[0.3333333333333333,\"#9c179e\"],[0.4444444444444444,\"#bd3786\"],[0.5555555555555556,\"#d8576b\"],[0.6666666666666666,\"#ed7953\"],[0.7777777777777778,\"#fb9f3a\"],[0.8888888888888888,\"#fdca26\"],[1.0,\"#f0f921\"]],\"sequentialminus\":[[0.0,\"#0d0887\"],[0.1111111111111111,\"#46039f\"],[0.2222222222222222,\"#7201a8\"],[0.3333333333333333,\"#9c179e\"],[0.4444444444444444,\"#bd3786\"],[0.5555555555555556,\"#d8576b\"],[0.6666666666666666,\"#ed7953\"],[0.7777777777777778,\"#fb9f3a\"],[0.8888888888888888,\"#fdca26\"],[1.0,\"#f0f921\"]]},\"colorway\":[\"#636efa\",\"#EF553B\",\"#00cc96\",\"#ab63fa\",\"#FFA15A\",\"#19d3f3\",\"#FF6692\",\"#B6E880\",\"#FF97FF\",\"#FECB52\"],\"font\":{\"color\":\"#2a3f5f\"},\"geo\":{\"bgcolor\":\"white\",\"lakecolor\":\"white\",\"landcolor\":\"#E5ECF6\",\"showlakes\":true,\"showland\":true,\"subunitcolor\":\"white\"},\"hoverlabel\":{\"align\":\"left\"},\"hovermode\":\"closest\",\"mapbox\":{\"style\":\"light\"},\"paper_bgcolor\":\"white\",\"plot_bgcolor\":\"#E5ECF6\",\"polar\":{\"angularaxis\":{\"gridcolor\":\"white\",\"linecolor\":\"white\",\"ticks\":\"\"},\"bgcolor\":\"#E5ECF6\",\"radialaxis\":{\"gridcolor\":\"white\",\"linecolor\":\"white\",\"ticks\":\"\"}},\"scene\":{\"xaxis\":{\"backgroundcolor\":\"#E5ECF6\",\"gridcolor\":\"white\",\"gridwidth\":2,\"linecolor\":\"white\",\"showbackground\":true,\"ticks\":\"\",\"zerolinecolor\":\"white\"},\"yaxis\":{\"backgroundcolor\":\"#E5ECF6\",\"gridcolor\":\"white\",\"gridwidth\":2,\"linecolor\":\"white\",\"showbackground\":true,\"ticks\":\"\",\"zerolinecolor\":\"white\"},\"zaxis\":{\"backgroundcolor\":\"#E5ECF6\",\"gridcolor\":\"white\",\"gridwidth\":2,\"linecolor\":\"white\",\"showbackground\":true,\"ticks\":\"\",\"zerolinecolor\":\"white\"}},\"shapedefaults\":{\"line\":{\"color\":\"#2a3f5f\"}},\"ternary\":{\"aaxis\":{\"gridcolor\":\"white\",\"linecolor\":\"white\",\"ticks\":\"\"},\"baxis\":{\"gridcolor\":\"white\",\"linecolor\":\"white\",\"ticks\":\"\"},\"bgcolor\":\"#E5ECF6\",\"caxis\":{\"gridcolor\":\"white\",\"linecolor\":\"white\",\"ticks\":\"\"}},\"title\":{\"x\":0.05},\"xaxis\":{\"automargin\":true,\"gridcolor\":\"white\",\"linecolor\":\"white\",\"ticks\":\"\",\"title\":{\"standoff\":15},\"zerolinecolor\":\"white\",\"zerolinewidth\":2},\"yaxis\":{\"automargin\":true,\"gridcolor\":\"white\",\"linecolor\":\"white\",\"ticks\":\"\",\"title\":{\"standoff\":15},\"zerolinecolor\":\"white\",\"zerolinewidth\":2}}},\"scene\":{\"domain\":{\"x\":[0.0,1.0],\"y\":[0.0,1.0]},\"xaxis\":{\"title\":{\"text\":\"x\"}},\"yaxis\":{\"title\":{\"text\":\"y\"}},\"zaxis\":{\"title\":{\"text\":\"z\"}}},\"coloraxis\":{\"colorbar\":{\"title\":{\"text\":\"Species\"}},\"colorscale\":[[0.0,\"#0d0887\"],[0.1111111111111111,\"#46039f\"],[0.2222222222222222,\"#7201a8\"],[0.3333333333333333,\"#9c179e\"],[0.4444444444444444,\"#bd3786\"],[0.5555555555555556,\"#d8576b\"],[0.6666666666666666,\"#ed7953\"],[0.7777777777777778,\"#fb9f3a\"],[0.8888888888888888,\"#fdca26\"],[1.0,\"#f0f921\"]]},\"legend\":{\"tracegroupgap\":0},\"margin\":{\"t\":60}},                        {\"responsive\": true}                    ).then(function(){\n",
       "                            \n",
       "var gd = document.getElementById('8a5d02cb-9bc8-47ee-9e85-0307240d6e9a');\n",
       "var x = new MutationObserver(function (mutations, observer) {{\n",
       "        var display = window.getComputedStyle(gd).display;\n",
       "        if (!display || display === 'none') {{\n",
       "            console.log([gd, 'removed!']);\n",
       "            Plotly.purge(gd);\n",
       "            observer.disconnect();\n",
       "        }}\n",
       "}});\n",
       "\n",
       "// Listen for the removal of the full notebook cells\n",
       "var notebookContainer = gd.closest('#notebook-container');\n",
       "if (notebookContainer) {{\n",
       "    x.observe(notebookContainer, {childList: true});\n",
       "}}\n",
       "\n",
       "// Listen for the clearing of the current output cell\n",
       "var outputEl = gd.closest('.output');\n",
       "if (outputEl) {{\n",
       "    x.observe(outputEl, {childList: true});\n",
       "}}\n",
       "\n",
       "                        })                };                });            </script>        </div>"
      ]
     },
     "metadata": {},
     "output_type": "display_data"
    },
    {
     "data": {
      "image/png": "[encoded data removed]",
      "text/plain": [
       "<Figure size 432x288 with 1 Axes>"
      ]
     },
     "metadata": {
      "needs_background": "light"
     },
     "output_type": "display_data"
    }
   ],
   "source": [
    "import plotly.express as px\n",
    "\n",
    "ds = pd.DataFrame(columns=[\"PC_1\", \"PC_2\", \"Species\"])\n",
    "i = 0\n",
    "for value1, value2, species in zip(PCA_features.iloc[:,0], PCA_features.iloc[:,1], PCA_features.iloc[:,2]):\n",
    "    if species == 0:\n",
    "        continue\n",
    "    else:\n",
    "        ds.loc[i] = [value1, value2, species]\n",
    "        i += 1\n",
    "\n",
    "sns.scatterplot(data=ds, x = \"PC_1\", y = \"PC_2\", palette='icefire', hue=\"Species\")\n",
    "\n",
    "\n",
    "\n",
    "col1 = ds.iloc[:,0]\n",
    "col2 = ds.iloc[:,1]\n",
    "col3 = np.arange(100)\n",
    "fig = px.scatter_3d(ds, x=col1, y=col2, z=col3, color=\"Species\")\n",
    "fig.show()"
   ]
  },
  {
   "cell_type": "markdown",
   "id": "31e46bb2",
   "metadata": {},
   "source": [
    "#### We can see that the features are not linearly separable for classification. So we try to use the trick called <b>Kernel Filtering</b> for classifying such type of data."
   ]
  },
  {
   "cell_type": "code",
   "execution_count": 356,
   "id": "d6702f21",
   "metadata": {},
   "outputs": [
    {
     "data": {
      "text/html": [
       "<div>\n",
       "<style scoped>\n",
       "    .dataframe tbody tr th:only-of-type {\n",
       "        vertical-align: middle;\n",
       "    }\n",
       "\n",
       "    .dataframe tbody tr th {\n",
       "        vertical-align: top;\n",
       "    }\n",
       "\n",
       "    .dataframe thead th {\n",
       "        text-align: right;\n",
       "    }\n",
       "</style>\n",
       "<table border=\"1\" class=\"dataframe\">\n",
       "  <thead>\n",
       "    <tr style=\"text-align: right;\">\n",
       "      <th></th>\n",
       "      <th>PC_1</th>\n",
       "      <th>PC_2</th>\n",
       "      <th>Species</th>\n",
       "    </tr>\n",
       "  </thead>\n",
       "  <tbody>\n",
       "    <tr>\n",
       "      <th>42</th>\n",
       "      <td>7.598283</td>\n",
       "      <td>-0.174772</td>\n",
       "      <td>1.0</td>\n",
       "    </tr>\n",
       "    <tr>\n",
       "      <th>54</th>\n",
       "      <td>9.367567</td>\n",
       "      <td>-1.377511</td>\n",
       "      <td>2.0</td>\n",
       "    </tr>\n",
       "    <tr>\n",
       "      <th>27</th>\n",
       "      <td>9.023341</td>\n",
       "      <td>-0.580846</td>\n",
       "      <td>1.0</td>\n",
       "    </tr>\n",
       "    <tr>\n",
       "      <th>93</th>\n",
       "      <td>9.736979</td>\n",
       "      <td>-1.288149</td>\n",
       "      <td>2.0</td>\n",
       "    </tr>\n",
       "    <tr>\n",
       "      <th>39</th>\n",
       "      <td>7.351742</td>\n",
       "      <td>-0.349486</td>\n",
       "      <td>1.0</td>\n",
       "    </tr>\n",
       "  </tbody>\n",
       "</table>\n",
       "</div>"
      ],
      "text/plain": [
       "        PC_1      PC_2  Species\n",
       "42  7.598283 -0.174772      1.0\n",
       "54  9.367567 -1.377511      2.0\n",
       "27  9.023341 -0.580846      1.0\n",
       "93  9.736979 -1.288149      2.0\n",
       "39  7.351742 -0.349486      1.0"
      ]
     },
     "execution_count": 356,
     "metadata": {},
     "output_type": "execute_result"
    }
   ],
   "source": [
    "ds = ds.sample(frac=1, random_state=44)\n",
    "ds.shape\n",
    "ds.head()"
   ]
  },
  {
   "cell_type": "code",
   "execution_count": 357,
   "id": "90a071ce",
   "metadata": {},
   "outputs": [],
   "source": [
    "def calculate_mean(X, y):\n",
    "    mean_class_0 = 0\n",
    "    mean_class_1 = 0\n",
    "    count0 = 0\n",
    "    count1 = 0\n",
    "\n",
    "    for i in range(len(X)):\n",
    "        if y[i] == 1:\n",
    "            mean_class_0 += X[i]\n",
    "            count0 += 1\n",
    "        else:\n",
    "            mean_class_1 += X[i]\n",
    "            count1 += 1\n",
    "    \n",
    "    m1 = mean_class_0/count0\n",
    "    m2 = mean_class_1/count1\n",
    "    return np.array(m1), np.array(m2)"
   ]
  },
  {
   "cell_type": "code",
   "execution_count": 358,
   "id": "fff91348",
   "metadata": {},
   "outputs": [],
   "source": [
    "def rbf_kernel(point1, point2, sigma=1):\n",
    "    norm = np.linalg.norm(point2*point1)\n",
    "    out = np.exp(-norm/2*sigma**2)\n",
    "    return out\n",
    "\n",
    "def poly_kernel(point1, point2, c=1, d=2):\n",
    "    return ((point1*point2) + c)**d"
   ]
  },
  {
   "cell_type": "code",
   "execution_count": 359,
   "id": "99f8d892",
   "metadata": {},
   "outputs": [],
   "source": [
    "def transform_data(X, y, kernel='rbf'):\n",
    "    \n",
    "    new_data = []\n",
    "    m1, m2 = calculate_mean(X, y)\n",
    "    m3, m4 = m1-1, m2-1\n",
    "    landmarks = [m1, m2, m1-1, m2-1]\n",
    "    for i in range(len(X)):\n",
    "        res = []\n",
    "        if kernel=='rbf':\n",
    "            res1 = rbf_kernel(np.array(X[i]), m1/2 - 4)\n",
    "            res2 = rbf_kernel(np.array(X[i]), m2*2 + 4)\n",
    "        elif kernel=='poly':\n",
    "            res1 = poly_kernel(X[i], m1)\n",
    "            res2 = poly_kernel(X[i], m2)\n",
    "        res.append(res1)\n",
    "        res.append(res2)\n",
    "        new_data.append(res)\n",
    "    new_data = np.array(new_data) \n",
    "    \n",
    "    ds = np.concatenate((new_data, y), axis=1)\n",
    "    ds = pd.DataFrame(ds, columns=[\"f1\", \"f2\", \"Species\"])\n",
    "    \n",
    "    return ds"
   ]
  },
  {
   "cell_type": "code",
   "execution_count": 360,
   "id": "e7854574",
   "metadata": {},
   "outputs": [
    {
     "data": {
      "text/html": [
       "<div>\n",
       "<style scoped>\n",
       "    .dataframe tbody tr th:only-of-type {\n",
       "        vertical-align: middle;\n",
       "    }\n",
       "\n",
       "    .dataframe tbody tr th {\n",
       "        vertical-align: top;\n",
       "    }\n",
       "\n",
       "    .dataframe thead th {\n",
       "        text-align: right;\n",
       "    }\n",
       "</style>\n",
       "<table border=\"1\" class=\"dataframe\">\n",
       "  <thead>\n",
       "    <tr style=\"text-align: right;\">\n",
       "      <th></th>\n",
       "      <th>f1</th>\n",
       "      <th>f2</th>\n",
       "      <th>Species</th>\n",
       "    </tr>\n",
       "  </thead>\n",
       "  <tbody>\n",
       "    <tr>\n",
       "      <th>0</th>\n",
       "      <td>0.675468</td>\n",
       "      <td>6.591519e-38</td>\n",
       "      <td>1.0</td>\n",
       "    </tr>\n",
       "    <tr>\n",
       "      <th>1</th>\n",
       "      <td>0.057580</td>\n",
       "      <td>1.440115e-46</td>\n",
       "      <td>2.0</td>\n",
       "    </tr>\n",
       "    <tr>\n",
       "      <th>2</th>\n",
       "      <td>0.296807</td>\n",
       "      <td>7.001932e-45</td>\n",
       "      <td>1.0</td>\n",
       "    </tr>\n",
       "    <tr>\n",
       "      <th>3</th>\n",
       "      <td>0.069199</td>\n",
       "      <td>2.244968e-48</td>\n",
       "      <td>2.0</td>\n",
       "    </tr>\n",
       "    <tr>\n",
       "      <th>4</th>\n",
       "      <td>0.478254</td>\n",
       "      <td>1.059775e-36</td>\n",
       "      <td>1.0</td>\n",
       "    </tr>\n",
       "  </tbody>\n",
       "</table>\n",
       "</div>"
      ],
      "text/plain": [
       "         f1            f2  Species\n",
       "0  0.675468  6.591519e-38      1.0\n",
       "1  0.057580  1.440115e-46      2.0\n",
       "2  0.296807  7.001932e-45      1.0\n",
       "3  0.069199  2.244968e-48      2.0\n",
       "4  0.478254  1.059775e-36      1.0"
      ]
     },
     "execution_count": 360,
     "metadata": {},
     "output_type": "execute_result"
    }
   ],
   "source": [
    "\n",
    "X = np.array(ds.iloc[:, :2]).astype('float32').reshape(100, 2)\n",
    "y = np.array(ds.iloc[:, 2]).astype('float32').reshape(100, 1)\n",
    "ds_a = transform_data(X, y, kernel='rbf')\n",
    "ds_a.head()"
   ]
  },
  {
   "cell_type": "code",
   "execution_count": 361,
   "id": "f22bd080",
   "metadata": {},
   "outputs": [
    {
     "data": {
      "application/vnd.plotly.v1+json": {
       "config": {
        "plotlyServerURL": "https://plot.ly"
       },
       "data": [
        {
         "hovertemplate": "x=%{x}<br>y=%{y}<br>z=%{z}<br>Species=%{marker.color}<extra></extra>",
         "legendgroup": "",
         "marker": {
          "color": [
           1,
           2,
           1,
           2,
           1,
           2,
           1,
           1,
           1,
           2,
           2,
           1,
           1,
           2,
           1,
           2,
           2,
           1,
           2,
           2,
           2,
           1,
           1,
           2,
           1,
           2,
           2,
           2,
           2,
           2,
           2,
           1,
           2,
           2,
           1,
           1,
           1,
           2,
           1,
           2,
           2,
           1,
           1,
           1,
           1,
           1,
           1,
           1,
           1,
           2,
           1,
           1,
           2,
           1,
           1,
           2,
           1,
           1,
           1,
           2,
           1,
           2,
           2,
           1,
           1,
           1,
           2,
           2,
           1,
           2,
           2,
           2,
           2,
           1,
           2,
           2,
           2,
           2,
           1,
           1,
           2,
           2,
           1,
           1,
           1,
           2,
           2,
           2,
           2,
           2,
           1,
           2,
           1,
           2,
           2,
           1,
           2,
           1,
           1,
           1
          ],
          "coloraxis": "coloraxis",
          "symbol": "circle"
         },
         "mode": "markers",
         "name": "",
         "scene": "scene",
         "showlegend": false,
         "type": "scatter3d",
         "x": [
          0.6754681298601419,
          0.057580278493977434,
          0.29680714792623447,
          0.06919948741703864,
          0.4782537369976048,
          0.13149186890737766,
          0.8701816205869074,
          0.4153868162784161,
          0.7821057880087225,
          0.23091634153597368,
          0.09323144946073585,
          0.6538735955722412,
          0.3416850846309706,
          0.09831901048180967,
          0.6686857537253527,
          0.14965421329131917,
          0.11645004765941026,
          0.13066439544393038,
          0.11867057249755185,
          0.013857763204132827,
          0.13311470170138048,
          0.7475291497339563,
          0.3635609661820214,
          0.09262323596324089,
          0.6229061176075433,
          0.08422596894173069,
          0.1251833583135127,
          0.0938497875077706,
          0.21099673620072523,
          0.2209772223320209,
          0.18714229138778757,
          0.43446568621533255,
          0.18106639152563186,
          0.07005626570978542,
          0.7916458489317013,
          0.5156230393174954,
          0.7865513851167539,
          0.12643088997308752,
          0.8323174276376853,
          0.08147444718361448,
          0.04908975885934564,
          0.32132673046564864,
          0.4199427113204478,
          0.8394140063196803,
          0.7114818475092484,
          0.743869135731227,
          0.35755963783263867,
          0.8776155431268833,
          0.850465966680323,
          0.11437170296511867,
          0.47369605242431545,
          0.5413612696453587,
          0.07602753669291545,
          0.5231074058696066,
          0.3312254061394071,
          0.06234620046944242,
          0.4612773230543013,
          0.5882712958557831,
          0.6434891526660015,
          0.1224119826622039,
          0.5398797632196983,
          0.0735762544017484,
          0.1595693391664331,
          0.6751153541470446,
          0.49395902266702446,
          0.564468171408053,
          0.07619293828079791,
          0.08483640490296236,
          0.6202234098793729,
          0.06238814730756077,
          0.04322341489613474,
          0.0938497875077706,
          0.10791449148184427,
          0.37211366950325253,
          0.15418540663165933,
          0.22530735035763336,
          0.09969894674420977,
          0.028794683587671892,
          0.21631521318524585,
          0.7935858112940005,
          0.058103004672687565,
          0.11273050368647568,
          0.5847424174034329,
          0.6691076910585996,
          0.7212193846577931,
          0.05270693783203143,
          0.24582888757108612,
          0.11648339682352815,
          0.07679504918254815,
          0.15700153812545373,
          0.17905581145414803,
          0.036645717295523766,
          0.36835113691649596,
          0.1450217415796502,
          0.06872307603815968,
          0.3831947681893785,
          0.08881990617455832,
          0.7364187094668797,
          0.6721056514111342,
          0.28988845234828925
         ],
         "y": [
          6.59151942888194e-38,
          1.4401145922463879e-46,
          7.001931624110599e-45,
          2.244968292099233e-48,
          1.0597750132224398e-36,
          2.133367816169035e-45,
          2.6356516225665036e-32,
          3.964988448976036e-44,
          1.6619409864374508e-41,
          5.1390070784920325e-45,
          3.0830130468194047e-46,
          7.54615990226961e-36,
          2.8293562932705754e-40,
          3.0651619113744214e-48,
          1.1836362901386488e-36,
          2.8291159752231687e-42,
          1.1998896646402352e-42,
          6.3926072408822e-42,
          1.7440891529820996e-45,
          4.403193433786261e-53,
          1.2018007981123805e-48,
          3.002888868026783e-38,
          2.998068610886008e-39,
          1.1680426263952505e-40,
          1.1082804218474038e-38,
          3.7677281612723724e-47,
          2.6508091985615027e-45,
          1.9667945243692576e-41,
          1.5132510460682898e-46,
          2.9816971980889335e-42,
          3.9796132193638025e-43,
          1.3213950591340315e-42,
          1.0999891159279848e-42,
          8.179783975902768e-52,
          2.3502075025340828e-45,
          1.4819674436976888e-32,
          9.255137235167452e-43,
          2.7628691184456e-45,
          7.66130352439438e-38,
          8.142671899224033e-45,
          4.793826237573487e-46,
          8.256271527981307e-38,
          1.0570999569609707e-40,
          2.5880826177491097e-43,
          9.031031101573185e-41,
          3.51861632669975e-38,
          1.723326319369719e-41,
          1.7344470753567557e-32,
          1.8301814653851516e-39,
          7.80543267770721e-47,
          6.077861495127855e-38,
          3.925005686462181e-43,
          6.0908947003112145e-49,
          1.969123250720578e-32,
          1.105291210263527e-38,
          5.19320776917036e-50,
          2.0036131599397545e-41,
          5.396126593268062e-43,
          3.0311317008614673e-38,
          4.41276572426438e-36,
          8.419120460180487e-36,
          4.974049545063664e-42,
          6.77636414262431e-45,
          9.107389279958725e-40,
          2.187761483344891e-45,
          9.804789442800874e-38,
          1.5903249838901063e-40,
          7.433431082964283e-48,
          4.039538142955163e-36,
          3.034510701908562e-45,
          3.8617000926287235e-47,
          1.9667945243692576e-41,
          1.0999558257352193e-49,
          2.0344689477420942e-39,
          1.531842006686904e-54,
          1.6568065093313016e-42,
          3.8581279547586505e-44,
          1.0532534970682805e-52,
          3.883266690748625e-40,
          1.6256781180258065e-35,
          2.5106932771964386e-45,
          1.5857577344661658e-47,
          3.779408273576823e-44,
          8.295770377585643e-37,
          9.921286082573709e-43,
          2.9977887992835105e-50,
          6.887052789917214e-42,
          1.8342833161891666e-40,
          1.0041620697772495e-54,
          3.895404033978815e-47,
          4.565419611900371e-42,
          1.5412923407639618e-52,
          3.859502824749696e-41,
          7.06813324842821e-46,
          3.400932381034211e-43,
          2.4930010779843527e-36,
          2.9621726268471913e-51,
          8.72990865161869e-39,
          1.030388541956571e-41,
          6.824912503468928e-42
         ],
         "z": [
          0,
          1,
          2,
          3,
          4,
          5,
          6,
          7,
          8,
          9,
          10,
          11,
          12,
          13,
          14,
          15,
          16,
          17,
          18,
          19,
          20,
          21,
          22,
          23,
          24,
          25,
          26,
          27,
          28,
          29,
          30,
          31,
          32,
          33,
          34,
          35,
          36,
          37,
          38,
          39,
          40,
          41,
          42,
          43,
          44,
          45,
          46,
          47,
          48,
          49,
          50,
          51,
          52,
          53,
          54,
          55,
          56,
          57,
          58,
          59,
          60,
          61,
          62,
          63,
          64,
          65,
          66,
          67,
          68,
          69,
          70,
          71,
          72,
          73,
          74,
          75,
          76,
          77,
          78,
          79,
          80,
          81,
          82,
          83,
          84,
          85,
          86,
          87,
          88,
          89,
          90,
          91,
          92,
          93,
          94,
          95,
          96,
          97,
          98,
          99
         ]
        }
       ],
       "layout": {
        "coloraxis": {
         "colorbar": {
          "title": {
           "text": "Species"
          }
         },
         "colorscale": [
          [
           0,
           "#0d0887"
          ],
          [
           0.1111111111111111,
           "#46039f"
          ],
          [
           0.2222222222222222,
           "#7201a8"
          ],
          [
           0.3333333333333333,
           "#9c179e"
          ],
          [
           0.4444444444444444,
           "#bd3786"
          ],
          [
           0.5555555555555556,
           "#d8576b"
          ],
          [
           0.6666666666666666,
           "#ed7953"
          ],
          [
           0.7777777777777778,
           "#fb9f3a"
          ],
          [
           0.8888888888888888,
           "#fdca26"
          ],
          [
           1,
           "#f0f921"
          ]
         ]
        },
        "legend": {
         "tracegroupgap": 0
        },
        "margin": {
         "t": 60
        },
        "scene": {
         "domain": {
          "x": [
           0,
           1
          ],
          "y": [
           0,
           1
          ]
         },
         "xaxis": {
          "title": {
           "text": "x"
          }
         },
         "yaxis": {
          "title": {
           "text": "y"
          }
         },
         "zaxis": {
          "title": {
           "text": "z"
          }
         }
        },
        "template": {
         "data": {
          "bar": [
           {
            "error_x": {
             "color": "#2a3f5f"
            },
            "error_y": {
             "color": "#2a3f5f"
            },
            "marker": {
             "line": {
              "color": "#E5ECF6",
              "width": 0.5
             },
             "pattern": {
              "fillmode": "overlay",
              "size": 10,
              "solidity": 0.2
             }
            },
            "type": "bar"
           }
          ],
          "barpolar": [
           {
            "marker": {
             "line": {
              "color": "#E5ECF6",
              "width": 0.5
             },
             "pattern": {
              "fillmode": "overlay",
              "size": 10,
              "solidity": 0.2
             }
            },
            "type": "barpolar"
           }
          ],
          "carpet": [
           {
            "aaxis": {
             "endlinecolor": "#2a3f5f",
             "gridcolor": "white",
             "linecolor": "white",
             "minorgridcolor": "white",
             "startlinecolor": "#2a3f5f"
            },
            "baxis": {
             "endlinecolor": "#2a3f5f",
             "gridcolor": "white",
             "linecolor": "white",
             "minorgridcolor": "white",
             "startlinecolor": "#2a3f5f"
            },
            "type": "carpet"
           }
          ],
          "choropleth": [
           {
            "colorbar": {
             "outlinewidth": 0,
             "ticks": ""
            },
            "type": "choropleth"
           }
          ],
          "contour": [
           {
            "colorbar": {
             "outlinewidth": 0,
             "ticks": ""
            },
            "colorscale": [
             [
              0,
              "#0d0887"
             ],
             [
              0.1111111111111111,
              "#46039f"
             ],
             [
              0.2222222222222222,
              "#7201a8"
             ],
             [
              0.3333333333333333,
              "#9c179e"
             ],
             [
              0.4444444444444444,
              "#bd3786"
             ],
             [
              0.5555555555555556,
              "#d8576b"
             ],
             [
              0.6666666666666666,
              "#ed7953"
             ],
             [
              0.7777777777777778,
              "#fb9f3a"
             ],
             [
              0.8888888888888888,
              "#fdca26"
             ],
             [
              1,
              "#f0f921"
             ]
            ],
            "type": "contour"
           }
          ],
          "contourcarpet": [
           {
            "colorbar": {
             "outlinewidth": 0,
             "ticks": ""
            },
            "type": "contourcarpet"
           }
          ],
          "heatmap": [
           {
            "colorbar": {
             "outlinewidth": 0,
             "ticks": ""
            },
            "colorscale": [
             [
              0,
              "#0d0887"
             ],
             [
              0.1111111111111111,
              "#46039f"
             ],
             [
              0.2222222222222222,
              "#7201a8"
             ],
             [
              0.3333333333333333,
              "#9c179e"
             ],
             [
              0.4444444444444444,
              "#bd3786"
             ],
             [
              0.5555555555555556,
              "#d8576b"
             ],
             [
              0.6666666666666666,
              "#ed7953"
             ],
             [
              0.7777777777777778,
              "#fb9f3a"
             ],
             [
              0.8888888888888888,
              "#fdca26"
             ],
             [
              1,
              "#f0f921"
             ]
            ],
            "type": "heatmap"
           }
          ],
          "heatmapgl": [
           {
            "colorbar": {
             "outlinewidth": 0,
             "ticks": ""
            },
            "colorscale": [
             [
              0,
              "#0d0887"
             ],
             [
              0.1111111111111111,
              "#46039f"
             ],
             [
              0.2222222222222222,
              "#7201a8"
             ],
             [
              0.3333333333333333,
              "#9c179e"
             ],
             [
              0.4444444444444444,
              "#bd3786"
             ],
             [
              0.5555555555555556,
              "#d8576b"
             ],
             [
              0.6666666666666666,
              "#ed7953"
             ],
             [
              0.7777777777777778,
              "#fb9f3a"
             ],
             [
              0.8888888888888888,
              "#fdca26"
             ],
             [
              1,
              "#f0f921"
             ]
            ],
            "type": "heatmapgl"
           }
          ],
          "histogram": [
           {
            "marker": {
             "pattern": {
              "fillmode": "overlay",
              "size": 10,
              "solidity": 0.2
             }
            },
            "type": "histogram"
           }
          ],
          "histogram2d": [
           {
            "colorbar": {
             "outlinewidth": 0,
             "ticks": ""
            },
            "colorscale": [
             [
              0,
              "#0d0887"
             ],
             [
              0.1111111111111111,
              "#46039f"
             ],
             [
              0.2222222222222222,
              "#7201a8"
             ],
             [
              0.3333333333333333,
              "#9c179e"
             ],
             [
              0.4444444444444444,
              "#bd3786"
             ],
             [
              0.5555555555555556,
              "#d8576b"
             ],
             [
              0.6666666666666666,
              "#ed7953"
             ],
             [
              0.7777777777777778,
              "#fb9f3a"
             ],
             [
              0.8888888888888888,
              "#fdca26"
             ],
             [
              1,
              "#f0f921"
             ]
            ],
            "type": "histogram2d"
           }
          ],
          "histogram2dcontour": [
           {
            "colorbar": {
             "outlinewidth": 0,
             "ticks": ""
            },
            "colorscale": [
             [
              0,
              "#0d0887"
             ],
             [
              0.1111111111111111,
              "#46039f"
             ],
             [
              0.2222222222222222,
              "#7201a8"
             ],
             [
              0.3333333333333333,
              "#9c179e"
             ],
             [
              0.4444444444444444,
              "#bd3786"
             ],
             [
              0.5555555555555556,
              "#d8576b"
             ],
             [
              0.6666666666666666,
              "#ed7953"
             ],
             [
              0.7777777777777778,
              "#fb9f3a"
             ],
             [
              0.8888888888888888,
              "#fdca26"
             ],
             [
              1,
              "#f0f921"
             ]
            ],
            "type": "histogram2dcontour"
           }
          ],
          "mesh3d": [
           {
            "colorbar": {
             "outlinewidth": 0,
             "ticks": ""
            },
            "type": "mesh3d"
           }
          ],
          "parcoords": [
           {
            "line": {
             "colorbar": {
              "outlinewidth": 0,
              "ticks": ""
             }
            },
            "type": "parcoords"
           }
          ],
          "pie": [
           {
            "automargin": true,
            "type": "pie"
           }
          ],
          "scatter": [
           {
            "marker": {
             "colorbar": {
              "outlinewidth": 0,
              "ticks": ""
             }
            },
            "type": "scatter"
           }
          ],
          "scatter3d": [
           {
            "line": {
             "colorbar": {
              "outlinewidth": 0,
              "ticks": ""
             }
            },
            "marker": {
             "colorbar": {
              "outlinewidth": 0,
              "ticks": ""
             }
            },
            "type": "scatter3d"
           }
          ],
          "scattercarpet": [
           {
            "marker": {
             "colorbar": {
              "outlinewidth": 0,
              "ticks": ""
             }
            },
            "type": "scattercarpet"
           }
          ],
          "scattergeo": [
           {
            "marker": {
             "colorbar": {
              "outlinewidth": 0,
              "ticks": ""
             }
            },
            "type": "scattergeo"
           }
          ],
          "scattergl": [
           {
            "marker": {
             "colorbar": {
              "outlinewidth": 0,
              "ticks": ""
             }
            },
            "type": "scattergl"
           }
          ],
          "scattermapbox": [
           {
            "marker": {
             "colorbar": {
              "outlinewidth": 0,
              "ticks": ""
             }
            },
            "type": "scattermapbox"
           }
          ],
          "scatterpolar": [
           {
            "marker": {
             "colorbar": {
              "outlinewidth": 0,
              "ticks": ""
             }
            },
            "type": "scatterpolar"
           }
          ],
          "scatterpolargl": [
           {
            "marker": {
             "colorbar": {
              "outlinewidth": 0,
              "ticks": ""
             }
            },
            "type": "scatterpolargl"
           }
          ],
          "scatterternary": [
           {
            "marker": {
             "colorbar": {
              "outlinewidth": 0,
              "ticks": ""
             }
            },
            "type": "scatterternary"
           }
          ],
          "surface": [
           {
            "colorbar": {
             "outlinewidth": 0,
             "ticks": ""
            },
            "colorscale": [
             [
              0,
              "#0d0887"
             ],
             [
              0.1111111111111111,
              "#46039f"
             ],
             [
              0.2222222222222222,
              "#7201a8"
             ],
             [
              0.3333333333333333,
              "#9c179e"
             ],
             [
              0.4444444444444444,
              "#bd3786"
             ],
             [
              0.5555555555555556,
              "#d8576b"
             ],
             [
              0.6666666666666666,
              "#ed7953"
             ],
             [
              0.7777777777777778,
              "#fb9f3a"
             ],
             [
              0.8888888888888888,
              "#fdca26"
             ],
             [
              1,
              "#f0f921"
             ]
            ],
            "type": "surface"
           }
          ],
          "table": [
           {
            "cells": {
             "fill": {
              "color": "#EBF0F8"
             },
             "line": {
              "color": "white"
             }
            },
            "header": {
             "fill": {
              "color": "#C8D4E3"
             },
             "line": {
              "color": "white"
             }
            },
            "type": "table"
           }
          ]
         },
         "layout": {
          "annotationdefaults": {
           "arrowcolor": "#2a3f5f",
           "arrowhead": 0,
           "arrowwidth": 1
          },
          "autotypenumbers": "strict",
          "coloraxis": {
           "colorbar": {
            "outlinewidth": 0,
            "ticks": ""
           }
          },
          "colorscale": {
           "diverging": [
            [
             0,
             "#8e0152"
            ],
            [
             0.1,
             "#c51b7d"
            ],
            [
             0.2,
             "#de77ae"
            ],
            [
             0.3,
             "#f1b6da"
            ],
            [
             0.4,
             "#fde0ef"
            ],
            [
             0.5,
             "#f7f7f7"
            ],
            [
             0.6,
             "#e6f5d0"
            ],
            [
             0.7,
             "#b8e186"
            ],
            [
             0.8,
             "#7fbc41"
            ],
            [
             0.9,
             "#4d9221"
            ],
            [
             1,
             "#276419"
            ]
           ],
           "sequential": [
            [
             0,
             "#0d0887"
            ],
            [
             0.1111111111111111,
             "#46039f"
            ],
            [
             0.2222222222222222,
             "#7201a8"
            ],
            [
             0.3333333333333333,
             "#9c179e"
            ],
            [
             0.4444444444444444,
             "#bd3786"
            ],
            [
             0.5555555555555556,
             "#d8576b"
            ],
            [
             0.6666666666666666,
             "#ed7953"
            ],
            [
             0.7777777777777778,
             "#fb9f3a"
            ],
            [
             0.8888888888888888,
             "#fdca26"
            ],
            [
             1,
             "#f0f921"
            ]
           ],
           "sequentialminus": [
            [
             0,
             "#0d0887"
            ],
            [
             0.1111111111111111,
             "#46039f"
            ],
            [
             0.2222222222222222,
             "#7201a8"
            ],
            [
             0.3333333333333333,
             "#9c179e"
            ],
            [
             0.4444444444444444,
             "#bd3786"
            ],
            [
             0.5555555555555556,
             "#d8576b"
            ],
            [
             0.6666666666666666,
             "#ed7953"
            ],
            [
             0.7777777777777778,
             "#fb9f3a"
            ],
            [
             0.8888888888888888,
             "#fdca26"
            ],
            [
             1,
             "#f0f921"
            ]
           ]
          },
          "colorway": [
           "#636efa",
           "#EF553B",
           "#00cc96",
           "#ab63fa",
           "#FFA15A",
           "#19d3f3",
           "#FF6692",
           "#B6E880",
           "#FF97FF",
           "#FECB52"
          ],
          "font": {
           "color": "#2a3f5f"
          },
          "geo": {
           "bgcolor": "white",
           "lakecolor": "white",
           "landcolor": "#E5ECF6",
           "showlakes": true,
           "showland": true,
           "subunitcolor": "white"
          },
          "hoverlabel": {
           "align": "left"
          },
          "hovermode": "closest",
          "mapbox": {
           "style": "light"
          },
          "paper_bgcolor": "white",
          "plot_bgcolor": "#E5ECF6",
          "polar": {
           "angularaxis": {
            "gridcolor": "white",
            "linecolor": "white",
            "ticks": ""
           },
           "bgcolor": "#E5ECF6",
           "radialaxis": {
            "gridcolor": "white",
            "linecolor": "white",
            "ticks": ""
           }
          },
          "scene": {
           "xaxis": {
            "backgroundcolor": "#E5ECF6",
            "gridcolor": "white",
            "gridwidth": 2,
            "linecolor": "white",
            "showbackground": true,
            "ticks": "",
            "zerolinecolor": "white"
           },
           "yaxis": {
            "backgroundcolor": "#E5ECF6",
            "gridcolor": "white",
            "gridwidth": 2,
            "linecolor": "white",
            "showbackground": true,
            "ticks": "",
            "zerolinecolor": "white"
           },
           "zaxis": {
            "backgroundcolor": "#E5ECF6",
            "gridcolor": "white",
            "gridwidth": 2,
            "linecolor": "white",
            "showbackground": true,
            "ticks": "",
            "zerolinecolor": "white"
           }
          },
          "shapedefaults": {
           "line": {
            "color": "#2a3f5f"
           }
          },
          "ternary": {
           "aaxis": {
            "gridcolor": "white",
            "linecolor": "white",
            "ticks": ""
           },
           "baxis": {
            "gridcolor": "white",
            "linecolor": "white",
            "ticks": ""
           },
           "bgcolor": "#E5ECF6",
           "caxis": {
            "gridcolor": "white",
            "linecolor": "white",
            "ticks": ""
           }
          },
          "title": {
           "x": 0.05
          },
          "xaxis": {
           "automargin": true,
           "gridcolor": "white",
           "linecolor": "white",
           "ticks": "",
           "title": {
            "standoff": 15
           },
           "zerolinecolor": "white",
           "zerolinewidth": 2
          },
          "yaxis": {
           "automargin": true,
           "gridcolor": "white",
           "linecolor": "white",
           "ticks": "",
           "title": {
            "standoff": 15
           },
           "zerolinecolor": "white",
           "zerolinewidth": 2
          }
         }
        }
       }
      },
      "text/html": [
       "<div>                            <div id=\"64f3e830-788c-4a0c-9a5f-78121407faf5\" class=\"plotly-graph-div\" style=\"height:525px; width:100%;\"></div>            <script type=\"text/javascript\">                require([\"plotly\"], function(Plotly) {                    window.PLOTLYENV=window.PLOTLYENV || {};                                    if (document.getElementById(\"64f3e830-788c-4a0c-9a5f-78121407faf5\")) {                    Plotly.newPlot(                        \"64f3e830-788c-4a0c-9a5f-78121407faf5\",                        [{\"hovertemplate\":\"x=%{x}<br>y=%{y}<br>z=%{z}<br>Species=%{marker.color}<extra></extra>\",\"legendgroup\":\"\",\"marker\":{\"color\":[1.0,2.0,1.0,2.0,1.0,2.0,1.0,1.0,1.0,2.0,2.0,1.0,1.0,2.0,1.0,2.0,2.0,1.0,2.0,2.0,2.0,1.0,1.0,2.0,1.0,2.0,2.0,2.0,2.0,2.0,2.0,1.0,2.0,2.0,1.0,1.0,1.0,2.0,1.0,2.0,2.0,1.0,1.0,1.0,1.0,1.0,1.0,1.0,1.0,2.0,1.0,1.0,2.0,1.0,1.0,2.0,1.0,1.0,1.0,2.0,1.0,2.0,2.0,1.0,1.0,1.0,2.0,2.0,1.0,2.0,2.0,2.0,2.0,1.0,2.0,2.0,2.0,2.0,1.0,1.0,2.0,2.0,1.0,1.0,1.0,2.0,2.0,2.0,2.0,2.0,1.0,2.0,1.0,2.0,2.0,1.0,2.0,1.0,1.0,1.0],\"coloraxis\":\"coloraxis\",\"symbol\":\"circle\"},\"mode\":\"markers\",\"name\":\"\",\"scene\":\"scene\",\"showlegend\":false,\"x\":[0.6754681298601419,0.057580278493977434,0.29680714792623447,0.06919948741703864,0.4782537369976048,0.13149186890737766,0.8701816205869074,0.4153868162784161,0.7821057880087225,0.23091634153597368,0.09323144946073585,0.6538735955722412,0.3416850846309706,0.09831901048180967,0.6686857537253527,0.14965421329131917,0.11645004765941026,0.13066439544393038,0.11867057249755185,0.013857763204132827,0.13311470170138048,0.7475291497339563,0.3635609661820214,0.09262323596324089,0.6229061176075433,0.08422596894173069,0.1251833583135127,0.0938497875077706,0.21099673620072523,0.2209772223320209,0.18714229138778757,0.43446568621533255,0.18106639152563186,0.07005626570978542,0.7916458489317013,0.5156230393174954,0.7865513851167539,0.12643088997308752,0.8323174276376853,0.08147444718361448,0.04908975885934564,0.32132673046564864,0.4199427113204478,0.8394140063196803,0.7114818475092484,0.743869135731227,0.35755963783263867,0.8776155431268833,0.850465966680323,0.11437170296511867,0.47369605242431545,0.5413612696453587,0.07602753669291545,0.5231074058696066,0.3312254061394071,0.06234620046944242,0.4612773230543013,0.5882712958557831,0.6434891526660015,0.1224119826622039,0.5398797632196983,0.0735762544017484,0.1595693391664331,0.6751153541470446,0.49395902266702446,0.564468171408053,0.07619293828079791,0.08483640490296236,0.6202234098793729,0.06238814730756077,0.04322341489613474,0.0938497875077706,0.10791449148184427,0.37211366950325253,0.15418540663165933,0.22530735035763336,0.09969894674420977,0.028794683587671892,0.21631521318524585,0.7935858112940005,0.058103004672687565,0.11273050368647568,0.5847424174034329,0.6691076910585996,0.7212193846577931,0.05270693783203143,0.24582888757108612,0.11648339682352815,0.07679504918254815,0.15700153812545373,0.17905581145414803,0.036645717295523766,0.36835113691649596,0.1450217415796502,0.06872307603815968,0.3831947681893785,0.08881990617455832,0.7364187094668797,0.6721056514111342,0.28988845234828925],\"y\":[6.59151942888194e-38,1.4401145922463879e-46,7.001931624110599e-45,2.244968292099233e-48,1.0597750132224398e-36,2.133367816169035e-45,2.6356516225665036e-32,3.964988448976036e-44,1.6619409864374508e-41,5.1390070784920325e-45,3.0830130468194047e-46,7.54615990226961e-36,2.8293562932705754e-40,3.0651619113744214e-48,1.1836362901386488e-36,2.8291159752231687e-42,1.1998896646402352e-42,6.3926072408822e-42,1.7440891529820996e-45,4.403193433786261e-53,1.2018007981123805e-48,3.002888868026783e-38,2.998068610886008e-39,1.1680426263952505e-40,1.1082804218474038e-38,3.7677281612723724e-47,2.6508091985615027e-45,1.9667945243692576e-41,1.5132510460682898e-46,2.9816971980889335e-42,3.9796132193638025e-43,1.3213950591340315e-42,1.0999891159279848e-42,8.179783975902768e-52,2.3502075025340828e-45,1.4819674436976888e-32,9.255137235167452e-43,2.7628691184456e-45,7.66130352439438e-38,8.142671899224033e-45,4.793826237573487e-46,8.256271527981307e-38,1.0570999569609707e-40,2.5880826177491097e-43,9.031031101573185e-41,3.51861632669975e-38,1.723326319369719e-41,1.7344470753567557e-32,1.8301814653851516e-39,7.80543267770721e-47,6.077861495127855e-38,3.925005686462181e-43,6.0908947003112145e-49,1.969123250720578e-32,1.105291210263527e-38,5.19320776917036e-50,2.0036131599397545e-41,5.396126593268062e-43,3.0311317008614673e-38,4.41276572426438e-36,8.419120460180487e-36,4.974049545063664e-42,6.77636414262431e-45,9.107389279958725e-40,2.187761483344891e-45,9.804789442800874e-38,1.5903249838901063e-40,7.433431082964283e-48,4.039538142955163e-36,3.034510701908562e-45,3.8617000926287235e-47,1.9667945243692576e-41,1.0999558257352193e-49,2.0344689477420942e-39,1.531842006686904e-54,1.6568065093313016e-42,3.8581279547586505e-44,1.0532534970682805e-52,3.883266690748625e-40,1.6256781180258065e-35,2.5106932771964386e-45,1.5857577344661658e-47,3.779408273576823e-44,8.295770377585643e-37,9.921286082573709e-43,2.9977887992835105e-50,6.887052789917214e-42,1.8342833161891666e-40,1.0041620697772495e-54,3.895404033978815e-47,4.565419611900371e-42,1.5412923407639618e-52,3.859502824749696e-41,7.06813324842821e-46,3.400932381034211e-43,2.4930010779843527e-36,2.9621726268471913e-51,8.72990865161869e-39,1.030388541956571e-41,6.824912503468928e-42],\"z\":[0,1,2,3,4,5,6,7,8,9,10,11,12,13,14,15,16,17,18,19,20,21,22,23,24,25,26,27,28,29,30,31,32,33,34,35,36,37,38,39,40,41,42,43,44,45,46,47,48,49,50,51,52,53,54,55,56,57,58,59,60,61,62,63,64,65,66,67,68,69,70,71,72,73,74,75,76,77,78,79,80,81,82,83,84,85,86,87,88,89,90,91,92,93,94,95,96,97,98,99],\"type\":\"scatter3d\"}],                        {\"template\":{\"data\":{\"bar\":[{\"error_x\":{\"color\":\"#2a3f5f\"},\"error_y\":{\"color\":\"#2a3f5f\"},\"marker\":{\"line\":{\"color\":\"#E5ECF6\",\"width\":0.5},\"pattern\":{\"fillmode\":\"overlay\",\"size\":10,\"solidity\":0.2}},\"type\":\"bar\"}],\"barpolar\":[{\"marker\":{\"line\":{\"color\":\"#E5ECF6\",\"width\":0.5},\"pattern\":{\"fillmode\":\"overlay\",\"size\":10,\"solidity\":0.2}},\"type\":\"barpolar\"}],\"carpet\":[{\"aaxis\":{\"endlinecolor\":\"#2a3f5f\",\"gridcolor\":\"white\",\"linecolor\":\"white\",\"minorgridcolor\":\"white\",\"startlinecolor\":\"#2a3f5f\"},\"baxis\":{\"endlinecolor\":\"#2a3f5f\",\"gridcolor\":\"white\",\"linecolor\":\"white\",\"minorgridcolor\":\"white\",\"startlinecolor\":\"#2a3f5f\"},\"type\":\"carpet\"}],\"choropleth\":[{\"colorbar\":{\"outlinewidth\":0,\"ticks\":\"\"},\"type\":\"choropleth\"}],\"contour\":[{\"colorbar\":{\"outlinewidth\":0,\"ticks\":\"\"},\"colorscale\":[[0.0,\"#0d0887\"],[0.1111111111111111,\"#46039f\"],[0.2222222222222222,\"#7201a8\"],[0.3333333333333333,\"#9c179e\"],[0.4444444444444444,\"#bd3786\"],[0.5555555555555556,\"#d8576b\"],[0.6666666666666666,\"#ed7953\"],[0.7777777777777778,\"#fb9f3a\"],[0.8888888888888888,\"#fdca26\"],[1.0,\"#f0f921\"]],\"type\":\"contour\"}],\"contourcarpet\":[{\"colorbar\":{\"outlinewidth\":0,\"ticks\":\"\"},\"type\":\"contourcarpet\"}],\"heatmap\":[{\"colorbar\":{\"outlinewidth\":0,\"ticks\":\"\"},\"colorscale\":[[0.0,\"#0d0887\"],[0.1111111111111111,\"#46039f\"],[0.2222222222222222,\"#7201a8\"],[0.3333333333333333,\"#9c179e\"],[0.4444444444444444,\"#bd3786\"],[0.5555555555555556,\"#d8576b\"],[0.6666666666666666,\"#ed7953\"],[0.7777777777777778,\"#fb9f3a\"],[0.8888888888888888,\"#fdca26\"],[1.0,\"#f0f921\"]],\"type\":\"heatmap\"}],\"heatmapgl\":[{\"colorbar\":{\"outlinewidth\":0,\"ticks\":\"\"},\"colorscale\":[[0.0,\"#0d0887\"],[0.1111111111111111,\"#46039f\"],[0.2222222222222222,\"#7201a8\"],[0.3333333333333333,\"#9c179e\"],[0.4444444444444444,\"#bd3786\"],[0.5555555555555556,\"#d8576b\"],[0.6666666666666666,\"#ed7953\"],[0.7777777777777778,\"#fb9f3a\"],[0.8888888888888888,\"#fdca26\"],[1.0,\"#f0f921\"]],\"type\":\"heatmapgl\"}],\"histogram\":[{\"marker\":{\"pattern\":{\"fillmode\":\"overlay\",\"size\":10,\"solidity\":0.2}},\"type\":\"histogram\"}],\"histogram2d\":[{\"colorbar\":{\"outlinewidth\":0,\"ticks\":\"\"},\"colorscale\":[[0.0,\"#0d0887\"],[0.1111111111111111,\"#46039f\"],[0.2222222222222222,\"#7201a8\"],[0.3333333333333333,\"#9c179e\"],[0.4444444444444444,\"#bd3786\"],[0.5555555555555556,\"#d8576b\"],[0.6666666666666666,\"#ed7953\"],[0.7777777777777778,\"#fb9f3a\"],[0.8888888888888888,\"#fdca26\"],[1.0,\"#f0f921\"]],\"type\":\"histogram2d\"}],\"histogram2dcontour\":[{\"colorbar\":{\"outlinewidth\":0,\"ticks\":\"\"},\"colorscale\":[[0.0,\"#0d0887\"],[0.1111111111111111,\"#46039f\"],[0.2222222222222222,\"#7201a8\"],[0.3333333333333333,\"#9c179e\"],[0.4444444444444444,\"#bd3786\"],[0.5555555555555556,\"#d8576b\"],[0.6666666666666666,\"#ed7953\"],[0.7777777777777778,\"#fb9f3a\"],[0.8888888888888888,\"#fdca26\"],[1.0,\"#f0f921\"]],\"type\":\"histogram2dcontour\"}],\"mesh3d\":[{\"colorbar\":{\"outlinewidth\":0,\"ticks\":\"\"},\"type\":\"mesh3d\"}],\"parcoords\":[{\"line\":{\"colorbar\":{\"outlinewidth\":0,\"ticks\":\"\"}},\"type\":\"parcoords\"}],\"pie\":[{\"automargin\":true,\"type\":\"pie\"}],\"scatter\":[{\"marker\":{\"colorbar\":{\"outlinewidth\":0,\"ticks\":\"\"}},\"type\":\"scatter\"}],\"scatter3d\":[{\"line\":{\"colorbar\":{\"outlinewidth\":0,\"ticks\":\"\"}},\"marker\":{\"colorbar\":{\"outlinewidth\":0,\"ticks\":\"\"}},\"type\":\"scatter3d\"}],\"scattercarpet\":[{\"marker\":{\"colorbar\":{\"outlinewidth\":0,\"ticks\":\"\"}},\"type\":\"scattercarpet\"}],\"scattergeo\":[{\"marker\":{\"colorbar\":{\"outlinewidth\":0,\"ticks\":\"\"}},\"type\":\"scattergeo\"}],\"scattergl\":[{\"marker\":{\"colorbar\":{\"outlinewidth\":0,\"ticks\":\"\"}},\"type\":\"scattergl\"}],\"scattermapbox\":[{\"marker\":{\"colorbar\":{\"outlinewidth\":0,\"ticks\":\"\"}},\"type\":\"scattermapbox\"}],\"scatterpolar\":[{\"marker\":{\"colorbar\":{\"outlinewidth\":0,\"ticks\":\"\"}},\"type\":\"scatterpolar\"}],\"scatterpolargl\":[{\"marker\":{\"colorbar\":{\"outlinewidth\":0,\"ticks\":\"\"}},\"type\":\"scatterpolargl\"}],\"scatterternary\":[{\"marker\":{\"colorbar\":{\"outlinewidth\":0,\"ticks\":\"\"}},\"type\":\"scatterternary\"}],\"surface\":[{\"colorbar\":{\"outlinewidth\":0,\"ticks\":\"\"},\"colorscale\":[[0.0,\"#0d0887\"],[0.1111111111111111,\"#46039f\"],[0.2222222222222222,\"#7201a8\"],[0.3333333333333333,\"#9c179e\"],[0.4444444444444444,\"#bd3786\"],[0.5555555555555556,\"#d8576b\"],[0.6666666666666666,\"#ed7953\"],[0.7777777777777778,\"#fb9f3a\"],[0.8888888888888888,\"#fdca26\"],[1.0,\"#f0f921\"]],\"type\":\"surface\"}],\"table\":[{\"cells\":{\"fill\":{\"color\":\"#EBF0F8\"},\"line\":{\"color\":\"white\"}},\"header\":{\"fill\":{\"color\":\"#C8D4E3\"},\"line\":{\"color\":\"white\"}},\"type\":\"table\"}]},\"layout\":{\"annotationdefaults\":{\"arrowcolor\":\"#2a3f5f\",\"arrowhead\":0,\"arrowwidth\":1},\"autotypenumbers\":\"strict\",\"coloraxis\":{\"colorbar\":{\"outlinewidth\":0,\"ticks\":\"\"}},\"colorscale\":{\"diverging\":[[0,\"#8e0152\"],[0.1,\"#c51b7d\"],[0.2,\"#de77ae\"],[0.3,\"#f1b6da\"],[0.4,\"#fde0ef\"],[0.5,\"#f7f7f7\"],[0.6,\"#e6f5d0\"],[0.7,\"#b8e186\"],[0.8,\"#7fbc41\"],[0.9,\"#4d9221\"],[1,\"#276419\"]],\"sequential\":[[0.0,\"#0d0887\"],[0.1111111111111111,\"#46039f\"],[0.2222222222222222,\"#7201a8\"],[0.3333333333333333,\"#9c179e\"],[0.4444444444444444,\"#bd3786\"],[0.5555555555555556,\"#d8576b\"],[0.6666666666666666,\"#ed7953\"],[0.7777777777777778,\"#fb9f3a\"],[0.8888888888888888,\"#fdca26\"],[1.0,\"#f0f921\"]],\"sequentialminus\":[[0.0,\"#0d0887\"],[0.1111111111111111,\"#46039f\"],[0.2222222222222222,\"#7201a8\"],[0.3333333333333333,\"#9c179e\"],[0.4444444444444444,\"#bd3786\"],[0.5555555555555556,\"#d8576b\"],[0.6666666666666666,\"#ed7953\"],[0.7777777777777778,\"#fb9f3a\"],[0.8888888888888888,\"#fdca26\"],[1.0,\"#f0f921\"]]},\"colorway\":[\"#636efa\",\"#EF553B\",\"#00cc96\",\"#ab63fa\",\"#FFA15A\",\"#19d3f3\",\"#FF6692\",\"#B6E880\",\"#FF97FF\",\"#FECB52\"],\"font\":{\"color\":\"#2a3f5f\"},\"geo\":{\"bgcolor\":\"white\",\"lakecolor\":\"white\",\"landcolor\":\"#E5ECF6\",\"showlakes\":true,\"showland\":true,\"subunitcolor\":\"white\"},\"hoverlabel\":{\"align\":\"left\"},\"hovermode\":\"closest\",\"mapbox\":{\"style\":\"light\"},\"paper_bgcolor\":\"white\",\"plot_bgcolor\":\"#E5ECF6\",\"polar\":{\"angularaxis\":{\"gridcolor\":\"white\",\"linecolor\":\"white\",\"ticks\":\"\"},\"bgcolor\":\"#E5ECF6\",\"radialaxis\":{\"gridcolor\":\"white\",\"linecolor\":\"white\",\"ticks\":\"\"}},\"scene\":{\"xaxis\":{\"backgroundcolor\":\"#E5ECF6\",\"gridcolor\":\"white\",\"gridwidth\":2,\"linecolor\":\"white\",\"showbackground\":true,\"ticks\":\"\",\"zerolinecolor\":\"white\"},\"yaxis\":{\"backgroundcolor\":\"#E5ECF6\",\"gridcolor\":\"white\",\"gridwidth\":2,\"linecolor\":\"white\",\"showbackground\":true,\"ticks\":\"\",\"zerolinecolor\":\"white\"},\"zaxis\":{\"backgroundcolor\":\"#E5ECF6\",\"gridcolor\":\"white\",\"gridwidth\":2,\"linecolor\":\"white\",\"showbackground\":true,\"ticks\":\"\",\"zerolinecolor\":\"white\"}},\"shapedefaults\":{\"line\":{\"color\":\"#2a3f5f\"}},\"ternary\":{\"aaxis\":{\"gridcolor\":\"white\",\"linecolor\":\"white\",\"ticks\":\"\"},\"baxis\":{\"gridcolor\":\"white\",\"linecolor\":\"white\",\"ticks\":\"\"},\"bgcolor\":\"#E5ECF6\",\"caxis\":{\"gridcolor\":\"white\",\"linecolor\":\"white\",\"ticks\":\"\"}},\"title\":{\"x\":0.05},\"xaxis\":{\"automargin\":true,\"gridcolor\":\"white\",\"linecolor\":\"white\",\"ticks\":\"\",\"title\":{\"standoff\":15},\"zerolinecolor\":\"white\",\"zerolinewidth\":2},\"yaxis\":{\"automargin\":true,\"gridcolor\":\"white\",\"linecolor\":\"white\",\"ticks\":\"\",\"title\":{\"standoff\":15},\"zerolinecolor\":\"white\",\"zerolinewidth\":2}}},\"scene\":{\"domain\":{\"x\":[0.0,1.0],\"y\":[0.0,1.0]},\"xaxis\":{\"title\":{\"text\":\"x\"}},\"yaxis\":{\"title\":{\"text\":\"y\"}},\"zaxis\":{\"title\":{\"text\":\"z\"}}},\"coloraxis\":{\"colorbar\":{\"title\":{\"text\":\"Species\"}},\"colorscale\":[[0.0,\"#0d0887\"],[0.1111111111111111,\"#46039f\"],[0.2222222222222222,\"#7201a8\"],[0.3333333333333333,\"#9c179e\"],[0.4444444444444444,\"#bd3786\"],[0.5555555555555556,\"#d8576b\"],[0.6666666666666666,\"#ed7953\"],[0.7777777777777778,\"#fb9f3a\"],[0.8888888888888888,\"#fdca26\"],[1.0,\"#f0f921\"]]},\"legend\":{\"tracegroupgap\":0},\"margin\":{\"t\":60}},                        {\"responsive\": true}                    ).then(function(){\n",
       "                            \n",
       "var gd = document.getElementById('64f3e830-788c-4a0c-9a5f-78121407faf5');\n",
       "var x = new MutationObserver(function (mutations, observer) {{\n",
       "        var display = window.getComputedStyle(gd).display;\n",
       "        if (!display || display === 'none') {{\n",
       "            console.log([gd, 'removed!']);\n",
       "            Plotly.purge(gd);\n",
       "            observer.disconnect();\n",
       "        }}\n",
       "}});\n",
       "\n",
       "// Listen for the removal of the full notebook cells\n",
       "var notebookContainer = gd.closest('#notebook-container');\n",
       "if (notebookContainer) {{\n",
       "    x.observe(notebookContainer, {childList: true});\n",
       "}}\n",
       "\n",
       "// Listen for the clearing of the current output cell\n",
       "var outputEl = gd.closest('.output');\n",
       "if (outputEl) {{\n",
       "    x.observe(outputEl, {childList: true});\n",
       "}}\n",
       "\n",
       "                        })                };                });            </script>        </div>"
      ]
     },
     "metadata": {},
     "output_type": "display_data"
    },
    {
     "data": {
      "image/png": "[encoded data removed]",
      "text/plain": [
       "<Figure size 432x288 with 1 Axes>"
      ]
     },
     "metadata": {
      "needs_background": "light"
     },
     "output_type": "display_data"
    }
   ],
   "source": [
    "sns.scatterplot(data=ds_a, x = \"f1\", y = \"f2\", palette='icefire', hue=\"Species\")\n",
    "\n",
    "col1 = ds_a.iloc[:, 0]\n",
    "col2 = ds_a.iloc[:, 1]\n",
    "col3= np.arange(100)\n",
    "fig = px.scatter_3d(ds_a, x=col1, y=col2, z=col3, color=\"Species\")\n",
    "fig.show()"
   ]
  },
  {
   "cell_type": "code",
   "execution_count": 362,
   "id": "015dac16",
   "metadata": {},
   "outputs": [],
   "source": [
    "X_train = np.array(ds_a.iloc[:int(0.8*(len(ds_a))), :2]).astype('float32').reshape(80, 2)\n",
    "y_train = np.array(ds_a.iloc[:int(0.8*(len(ds_a))), -1]).astype('float32').reshape(80, 1)\n",
    "X_test  = np.array(ds_a.iloc[int(0.8*(len(ds_a))):, :2]).astype('float32').reshape(20, 2)\n",
    "y_test  = np.array(ds_a.iloc[int(0.8*(len(ds_a))):, -1]).astype('float32').reshape(20, 1)"
   ]
  },
  {
   "cell_type": "code",
   "execution_count": 363,
   "id": "7f688095",
   "metadata": {},
   "outputs": [],
   "source": [
    "def checkTP(y, y_hat, forPred=False):\n",
    "    pos = 0\n",
    "    if y_hat <= 0:\n",
    "        pred = -1\n",
    "    else: \n",
    "        pred = 1\n",
    "    if pred == y:\n",
    "        pos += 1\n",
    "    if forPred:\n",
    "        return 1 if pred<0 else 2, pos\n",
    "    else:\n",
    "        return pos\n",
    "    "
   ]
  },
  {
   "cell_type": "code",
   "execution_count": 364,
   "id": "2288031a",
   "metadata": {
    "scrolled": true
   },
   "outputs": [
    {
     "name": "stdout",
     "output_type": "stream",
     "text": [
      "Epoch: 0\tAccuracy: 0.5875\tLoss: 6338.552266175613\n",
      "Epoch: 1\tAccuracy: 0.9125\tLoss: 4204.153732926718\n",
      "Epoch: 2\tAccuracy: 0.875\tLoss: 2727.3204666283245\n",
      "Epoch: 3\tAccuracy: 0.9125\tLoss: 2096.0876171537543\n",
      "Epoch: 4\tAccuracy: 0.9375\tLoss: 1881.3950786296318\n",
      "Epoch: 5\tAccuracy: 0.95\tLoss: 1756.6279495911683\n",
      "Epoch: 6\tAccuracy: 0.95\tLoss: 1614.486914235264\n",
      "Epoch: 7\tAccuracy: 0.95\tLoss: 1514.4020834930027\n",
      "Epoch: 8\tAccuracy: 0.95\tLoss: 1447.6981640148294\n",
      "Epoch: 9\tAccuracy: 0.95\tLoss: 1407.7585291523617\n",
      "Epoch: 10\tAccuracy: 0.95\tLoss: 1376.4555250298042\n",
      "Epoch: 11\tAccuracy: 0.95\tLoss: 1356.126822849163\n",
      "Epoch: 12\tAccuracy: 0.95\tLoss: 1323.3016353452583\n",
      "Epoch: 13\tAccuracy: 0.9625\tLoss: 1280.5164242422104\n",
      "Epoch: 14\tAccuracy: 0.95\tLoss: 1240.1774897566172\n",
      "Epoch: 15\tAccuracy: 0.975\tLoss: 1219.6903246148124\n",
      "Epoch: 16\tAccuracy: 0.975\tLoss: 1185.180364573419\n",
      "Epoch: 17\tAccuracy: 0.975\tLoss: 1144.0244530978875\n",
      "Epoch: 18\tAccuracy: 0.975\tLoss: 1123.7619023782797\n",
      "Epoch: 19\tAccuracy: 0.975\tLoss: 1136.750734386845\n",
      "Epoch: 20\tAccuracy: 0.975\tLoss: 1119.6299155980762\n",
      "Epoch: 21\tAccuracy: 0.975\tLoss: 1117.840401942604\n",
      "Epoch: 22\tAccuracy: 0.975\tLoss: 1115.625672159621\n",
      "Epoch: 23\tAccuracy: 0.975\tLoss: 1075.530018955837\n",
      "Epoch: 24\tAccuracy: 0.975\tLoss: 1077.0640439403703\n",
      "Epoch: 25\tAccuracy: 0.975\tLoss: 1085.863445780558\n",
      "Epoch: 26\tAccuracy: 0.975\tLoss: 1076.48910570902\n",
      "Epoch: 27\tAccuracy: 0.975\tLoss: 1067.1249958066842\n",
      "Epoch: 28\tAccuracy: 0.975\tLoss: 1057.7711160735503\n",
      "Epoch: 29\tAccuracy: 0.975\tLoss: 1048.4274665096189\n",
      "Epoch: 30\tAccuracy: 0.975\tLoss: 1020.5233667211705\n",
      "Epoch: 31\tAccuracy: 0.975\tLoss: 1033.1208801821824\n",
      "Epoch: 32\tAccuracy: 0.975\tLoss: 1023.8042439138692\n",
      "Epoch: 33\tAccuracy: 0.975\tLoss: 995.6273176945315\n",
      "Epoch: 34\tAccuracy: 0.975\tLoss: 995.1739954930277\n",
      "Epoch: 35\tAccuracy: 0.975\tLoss: 989.5524294171928\n",
      "Epoch: 36\tAccuracy: 0.975\tLoss: 983.9372239816456\n",
      "Epoch: 37\tAccuracy: 0.975\tLoss: 973.3722087117205\n",
      "Epoch: 38\tAccuracy: 0.975\tLoss: 940.6853375136974\n",
      "Epoch: 39\tAccuracy: 0.975\tLoss: 965.6208912024376\n",
      "Epoch: 40\tAccuracy: 0.975\tLoss: 959.9598375776646\n",
      "Epoch: 41\tAccuracy: 0.975\tLoss: 954.132217967804\n",
      "Epoch: 42\tAccuracy: 0.975\tLoss: 957.779091199858\n",
      "Epoch: 43\tAccuracy: 0.975\tLoss: 954.9874220195456\n",
      "Epoch: 44\tAccuracy: 0.975\tLoss: 952.1991122929751\n",
      "Epoch: 45\tAccuracy: 0.975\tLoss: 949.4141620201464\n",
      "Epoch: 46\tAccuracy: 0.975\tLoss: 946.6325712010585\n",
      "Epoch: 47\tAccuracy: 0.975\tLoss: 943.8543398357126\n",
      "Epoch: 48\tAccuracy: 0.975\tLoss: 931.2016036060098\n",
      "Epoch: 49\tAccuracy: 0.975\tLoss: 939.023235570121\n",
      "Epoch: 50\tAccuracy: 0.975\tLoss: 936.2542151583054\n",
      "Epoch: 51\tAccuracy: 0.975\tLoss: 933.4885542002307\n",
      "Epoch: 52\tAccuracy: 0.975\tLoss: 930.7262526958979\n",
      "Epoch: 53\tAccuracy: 0.975\tLoss: 927.9673106453063\n",
      "Epoch: 54\tAccuracy: 0.975\tLoss: 925.2117280484564\n",
      "Epoch: 55\tAccuracy: 0.975\tLoss: 922.4595049053484\n",
      "Epoch: 56\tAccuracy: 0.975\tLoss: 919.7106412159812\n",
      "Epoch: 57\tAccuracy: 0.975\tLoss: 916.9651369803557\n",
      "Epoch: 58\tAccuracy: 0.975\tLoss: 914.222992198472\n",
      "Epoch: 59\tAccuracy: 0.975\tLoss: 912.8993407754696\n",
      "Epoch: 60\tAccuracy: 0.975\tLoss: 912.2114473829022\n",
      "Epoch: 61\tAccuracy: 0.975\tLoss: 908.6353133582865\n",
      "Epoch: 62\tAccuracy: 0.975\tLoss: 905.9033863796167\n",
      "Epoch: 63\tAccuracy: 0.975\tLoss: 903.1748188546885\n",
      "Epoch: 64\tAccuracy: 0.975\tLoss: 900.4496107835017\n",
      "Epoch: 65\tAccuracy: 0.975\tLoss: 904.9225810429426\n",
      "Epoch: 66\tAccuracy: 0.975\tLoss: 903.8871427352241\n",
      "Epoch: 67\tAccuracy: 0.975\tLoss: 902.8531607477028\n",
      "Epoch: 68\tAccuracy: 0.975\tLoss: 901.8206350803786\n",
      "Epoch: 69\tAccuracy: 0.975\tLoss: 900.7895657332513\n",
      "Epoch: 70\tAccuracy: 0.975\tLoss: 882.0514822502263\n",
      "Epoch: 71\tAccuracy: 0.975\tLoss: 880.9175506824936\n",
      "Epoch: 72\tAccuracy: 0.975\tLoss: 879.7851991152529\n",
      "Epoch: 73\tAccuracy: 0.975\tLoss: 890.6824769893981\n",
      "Epoch: 74\tAccuracy: 0.975\tLoss: 896.4448306051795\n",
      "Epoch: 75\tAccuracy: 0.975\tLoss: 895.4213769891021\n",
      "Epoch: 76\tAccuracy: 0.975\tLoss: 894.3993796932223\n",
      "Epoch: 77\tAccuracy: 0.975\tLoss: 893.3788387175391\n",
      "Epoch: 78\tAccuracy: 0.975\tLoss: 892.3597540620534\n",
      "Epoch: 79\tAccuracy: 0.975\tLoss: 865.2277325926187\n",
      "Epoch: 80\tAccuracy: 0.975\tLoss: 864.9936894387527\n",
      "Epoch: 81\tAccuracy: 0.975\tLoss: 864.7601346902143\n",
      "Epoch: 82\tAccuracy: 0.975\tLoss: 864.5270683470031\n",
      "Epoch: 83\tAccuracy: 0.975\tLoss: 864.2944904091194\n",
      "Epoch: 84\tAccuracy: 0.975\tLoss: 864.0624008765632\n",
      "Epoch: 85\tAccuracy: 0.975\tLoss: 863.8307997493343\n",
      "Epoch: 86\tAccuracy: 0.975\tLoss: 863.5996870274328\n",
      "Epoch: 87\tAccuracy: 0.975\tLoss: 863.3690627108587\n",
      "Epoch: 88\tAccuracy: 0.975\tLoss: 863.1389267996122\n",
      "Epoch: 89\tAccuracy: 0.975\tLoss: 862.909279293693\n",
      "Epoch: 90\tAccuracy: 0.975\tLoss: 883.9717226273654\n",
      "Epoch: 91\tAccuracy: 0.975\tLoss: 884.7883662909076\n",
      "Epoch: 92\tAccuracy: 0.975\tLoss: 862.2443590369004\n",
      "Epoch: 93\tAccuracy: 0.975\tLoss: 862.0166199630874\n",
      "Epoch: 94\tAccuracy: 0.975\tLoss: 861.7893692946017\n",
      "Epoch: 95\tAccuracy: 0.975\tLoss: 861.5626070314436\n",
      "Epoch: 96\tAccuracy: 0.975\tLoss: 861.3363331736127\n",
      "Epoch: 97\tAccuracy: 0.975\tLoss: 861.1105477211095\n",
      "Epoch: 98\tAccuracy: 0.975\tLoss: 860.8852506739336\n",
      "Epoch: 99\tAccuracy: 0.975\tLoss: 860.6604420320848\n"
     ]
    }
   ],
   "source": [
    "epochs = 100\n",
    "lr = 0.1\n",
    "lam = 0.01\n",
    "landmark = 2\n",
    "w = np.random.normal(loc=0.0, scale=np.sqrt(2/3), size=(1, landmark)).astype('float64')\n",
    "b = np.random.normal(loc=0.0, scale=np.sqrt(2/3), size=(1,)).astype('float64')\n",
    "loss_arr = []\n",
    "\n",
    "for i in range(epochs):\n",
    "    \n",
    "    loss = 0\n",
    "    tp = 0\n",
    "    \n",
    "    for j, x in enumerate(X_train):\n",
    "        y = y_train[j]\n",
    "        y = np.where(y <=1, -1, 1)\n",
    "        y_hat = np.dot(w, x) + b\n",
    "        score = y*y_hat\n",
    "        #print(score)\n",
    "        \n",
    "        #calculating the true positive rate\n",
    "        tp += checkTP(y, y_hat)\n",
    "\n",
    "        \n",
    "        #loss\n",
    "        loss += max(0, 1-score)\n",
    "        \n",
    "        #calculate and update gradient\n",
    "        dw = 0 if score > 1 else  - y*x\n",
    "        db = 0 if score >= 1 else -y\n",
    "        w -=  lr * dw\n",
    "        b -=  lr * db\n",
    "        \n",
    "    loss =  (loss/lam + (np.linalg.norm(w)**2)/2)\n",
    "    loss_arr.append(loss)\n",
    "    print(f\"Epoch: {i}\\tAccuracy: {tp/len(X_train)}\\tLoss: {float(loss)}\")"
   ]
  },
  {
   "cell_type": "code",
   "execution_count": 365,
   "id": "89e56cde",
   "metadata": {},
   "outputs": [
    {
     "data": {
      "text/plain": [
       "[<matplotlib.lines.Line2D at 0x2832ef692e0>]"
      ]
     },
     "execution_count": 365,
     "metadata": {},
     "output_type": "execute_result"
    },
    {
     "data": {
      "image/png": "[encoded data removed]",
      "text/plain": [
       "<Figure size 432x288 with 1 Axes>"
      ]
     },
     "metadata": {
      "needs_background": "light"
     },
     "output_type": "display_data"
    }
   ],
   "source": [
    "plt.plot(np.arange(epochs), np.array(loss_arr))"
   ]
  },
  {
   "cell_type": "code",
   "execution_count": 366,
   "id": "37510766",
   "metadata": {
    "scrolled": false
   },
   "outputs": [
    {
     "name": "stdout",
     "output_type": "stream",
     "text": [
      "Actual: 2\tPredicted: 2\n",
      "Actual: 2\tPredicted: 2\n",
      "Actual: 1\tPredicted: 1\n",
      "Actual: 1\tPredicted: 1\n",
      "Actual: 1\tPredicted: 1\n",
      "Actual: 2\tPredicted: 2\n",
      "Actual: 2\tPredicted: 2\n",
      "Actual: 2\tPredicted: 2\n",
      "Actual: 2\tPredicted: 2\n",
      "Actual: 2\tPredicted: 2\n",
      "Actual: 1\tPredicted: 2\n",
      "Actual: 2\tPredicted: 2\n",
      "Actual: 1\tPredicted: 1\n",
      "Actual: 2\tPredicted: 2\n",
      "Actual: 2\tPredicted: 2\n",
      "Actual: 1\tPredicted: 1\n",
      "Actual: 2\tPredicted: 2\n",
      "Actual: 1\tPredicted: 1\n",
      "Actual: 1\tPredicted: 1\n",
      "Actual: 1\tPredicted: 1\n",
      "\n",
      "\n",
      "Accuracy of test data: 0.95\n"
     ]
    }
   ],
   "source": [
    "y_test = np.array(y_test).astype('float64')\n",
    "tp = 0\n",
    "for j, x in enumerate(X_test):\n",
    "    \n",
    "    y = int(y_test[j])\n",
    "    y = np.where(y <=1, -1, 1)\n",
    "    \n",
    "    y_hat = float(np.dot(w, x)) + b\n",
    "    pred, tp1 = checkTP(y, y_hat, forPred=True)\n",
    "    tp += tp1\n",
    "    y = np.where(y <=0, 1, 2)\n",
    "    print(f\"Actual: {y}\\tPredicted: {pred}\")\n",
    "\n",
    "print(f\"\\n\\nAccuracy of test data: {tp/len(X_test)}\")"
   ]
  }
 ],
 "metadata": {
  "kernelspec": {
   "display_name": "Python 3 (ipykernel)",
   "language": "python",
   "name": "python3"
  },
  "language_info": {
   "codemirror_mode": {
    "name": "ipython",
    "version": 3
   },
   "file_extension": ".py",
   "mimetype": "text/x-python",
   "name": "python",
   "nbconvert_exporter": "python",
   "pygments_lexer": "ipython3",
   "version": "3.8.10"
  }
 },
 "nbformat": 4,
 "nbformat_minor": 5
}
